{
 "cells": [
  {
   "cell_type": "markdown",
   "id": "8cf61570",
   "metadata": {},
   "source": [
    "# Predict deaths"
   ]
  },
  {
   "cell_type": "code",
   "execution_count": 1,
   "id": "12e2222d",
   "metadata": {},
   "outputs": [],
   "source": [
    "import warnings\n",
    "import pandas as pd\n",
    "import numpy as np\n",
    "import seaborn as sns\n",
    "from sklearn.model_selection import train_test_split\n",
    "import statsmodels.api as sm\n",
    "import matplotlib.pyplot as plt\n",
    "from scipy import stats"
   ]
  },
  {
   "cell_type": "code",
   "execution_count": 2,
   "id": "885c6847",
   "metadata": {},
   "outputs": [],
   "source": [
    "warnings.filterwarnings('ignore')"
   ]
  },
  {
   "cell_type": "code",
   "execution_count": 3,
   "id": "98bc0b27",
   "metadata": {},
   "outputs": [
    {
     "data": {
      "text/html": [
       "<div>\n",
       "<style scoped>\n",
       "    .dataframe tbody tr th:only-of-type {\n",
       "        vertical-align: middle;\n",
       "    }\n",
       "\n",
       "    .dataframe tbody tr th {\n",
       "        vertical-align: top;\n",
       "    }\n",
       "\n",
       "    .dataframe thead th {\n",
       "        text-align: right;\n",
       "    }\n",
       "</style>\n",
       "<table border=\"1\" class=\"dataframe\">\n",
       "  <thead>\n",
       "    <tr style=\"text-align: right;\">\n",
       "      <th></th>\n",
       "      <th>Year</th>\n",
       "      <th>Country</th>\n",
       "      <th>ISO</th>\n",
       "      <th>Total Deaths</th>\n",
       "      <th>CPI</th>\n",
       "      <th>GDP(million dollars)</th>\n",
       "      <th>Population</th>\n",
       "      <th>healthexp</th>\n",
       "      <th>tmax</th>\n",
       "      <th>Associated Drought</th>\n",
       "      <th>Associated Wildfire</th>\n",
       "      <th>Appeal or Declaration</th>\n",
       "      <th>duration</th>\n",
       "    </tr>\n",
       "  </thead>\n",
       "  <tbody>\n",
       "    <tr>\n",
       "      <th>0</th>\n",
       "      <td>2000</td>\n",
       "      <td>Bulgaria</td>\n",
       "      <td>BGR</td>\n",
       "      <td>7</td>\n",
       "      <td>63.549547</td>\n",
       "      <td>28124.88</td>\n",
       "      <td>8170172</td>\n",
       "      <td>94.497452</td>\n",
       "      <td>34.6</td>\n",
       "      <td>0</td>\n",
       "      <td>0</td>\n",
       "      <td>0</td>\n",
       "      <td>31</td>\n",
       "    </tr>\n",
       "    <tr>\n",
       "      <th>1</th>\n",
       "      <td>2000</td>\n",
       "      <td>Cyprus</td>\n",
       "      <td>CYP</td>\n",
       "      <td>5</td>\n",
       "      <td>63.549547</td>\n",
       "      <td>10594.98</td>\n",
       "      <td>943288</td>\n",
       "      <td>750.516724</td>\n",
       "      <td>34.1</td>\n",
       "      <td>0</td>\n",
       "      <td>0</td>\n",
       "      <td>0</td>\n",
       "      <td>1</td>\n",
       "    </tr>\n",
       "    <tr>\n",
       "      <th>2</th>\n",
       "      <td>2000</td>\n",
       "      <td>Greece</td>\n",
       "      <td>GRC</td>\n",
       "      <td>27</td>\n",
       "      <td>63.549547</td>\n",
       "      <td>141247.28</td>\n",
       "      <td>10805808</td>\n",
       "      <td>885.410400</td>\n",
       "      <td>33.8</td>\n",
       "      <td>0</td>\n",
       "      <td>0</td>\n",
       "      <td>0</td>\n",
       "      <td>1</td>\n",
       "    </tr>\n",
       "    <tr>\n",
       "      <th>3</th>\n",
       "      <td>2000</td>\n",
       "      <td>Turkey</td>\n",
       "      <td>TUR</td>\n",
       "      <td>11</td>\n",
       "      <td>63.549547</td>\n",
       "      <td>171494.21</td>\n",
       "      <td>63240196</td>\n",
       "      <td>199.499374</td>\n",
       "      <td>27.6</td>\n",
       "      <td>1</td>\n",
       "      <td>0</td>\n",
       "      <td>0</td>\n",
       "      <td>31</td>\n",
       "    </tr>\n",
       "    <tr>\n",
       "      <th>4</th>\n",
       "      <td>2000</td>\n",
       "      <td>Romania</td>\n",
       "      <td>ROU</td>\n",
       "      <td>6</td>\n",
       "      <td>63.549547</td>\n",
       "      <td>80873.10</td>\n",
       "      <td>22442971</td>\n",
       "      <td>69.893456</td>\n",
       "      <td>26.5</td>\n",
       "      <td>0</td>\n",
       "      <td>0</td>\n",
       "      <td>0</td>\n",
       "      <td>1</td>\n",
       "    </tr>\n",
       "  </tbody>\n",
       "</table>\n",
       "</div>"
      ],
      "text/plain": [
       "   Year   Country  ISO  Total Deaths        CPI  GDP(million dollars)  \\\n",
       "0  2000  Bulgaria  BGR             7  63.549547              28124.88   \n",
       "1  2000    Cyprus  CYP             5  63.549547              10594.98   \n",
       "2  2000    Greece  GRC            27  63.549547             141247.28   \n",
       "3  2000    Turkey  TUR            11  63.549547             171494.21   \n",
       "4  2000   Romania  ROU             6  63.549547              80873.10   \n",
       "\n",
       "   Population   healthexp  tmax  Associated Drought  Associated Wildfire  \\\n",
       "0     8170172   94.497452  34.6                   0                    0   \n",
       "1      943288  750.516724  34.1                   0                    0   \n",
       "2    10805808  885.410400  33.8                   0                    0   \n",
       "3    63240196  199.499374  27.6                   1                    0   \n",
       "4    22442971   69.893456  26.5                   0                    0   \n",
       "\n",
       "   Appeal or Declaration  duration  \n",
       "0                      0        31  \n",
       "1                      0         1  \n",
       "2                      0         1  \n",
       "3                      0        31  \n",
       "4                      0         1  "
      ]
     },
     "execution_count": 3,
     "metadata": {},
     "output_type": "execute_result"
    }
   ],
   "source": [
    "#import data\n",
    "url=\"https://github.com/Themaoyc/MDA/blob/main/Data/deaths_predict.csv?raw=true\"\n",
    "df = pd.read_csv(url)\n",
    "df.head()"
   ]
  },
  {
   "cell_type": "markdown",
   "id": "395386ce",
   "metadata": {},
   "source": [
    "## Data Exporation "
   ]
  },
  {
   "cell_type": "code",
   "execution_count": 4,
   "id": "fab7e7dc",
   "metadata": {},
   "outputs": [
    {
     "name": "stdout",
     "output_type": "stream",
     "text": [
      "<class 'pandas.core.frame.DataFrame'>\n",
      "RangeIndex: 109 entries, 0 to 108\n",
      "Data columns (total 13 columns):\n",
      " #   Column                 Non-Null Count  Dtype  \n",
      "---  ------                 --------------  -----  \n",
      " 0   Year                   109 non-null    int64  \n",
      " 1   Country                109 non-null    object \n",
      " 2   ISO                    109 non-null    object \n",
      " 3   Total Deaths           109 non-null    int64  \n",
      " 4   CPI                    109 non-null    float64\n",
      " 5   GDP(million dollars)   109 non-null    float64\n",
      " 6   Population             109 non-null    int64  \n",
      " 7   healthexp              109 non-null    float64\n",
      " 8   tmax                   109 non-null    float64\n",
      " 9   Associated Drought     109 non-null    int64  \n",
      " 10  Associated Wildfire    109 non-null    int64  \n",
      " 11  Appeal or Declaration  109 non-null    int64  \n",
      " 12  duration               109 non-null    int64  \n",
      "dtypes: float64(4), int64(7), object(2)\n",
      "memory usage: 11.2+ KB\n"
     ]
    }
   ],
   "source": [
    "df.info()"
   ]
  },
  {
   "cell_type": "code",
   "execution_count": 5,
   "id": "6f5f5d22",
   "metadata": {
    "scrolled": false
   },
   "outputs": [
    {
     "data": {
      "text/html": [
       "<div>\n",
       "<style scoped>\n",
       "    .dataframe tbody tr th:only-of-type {\n",
       "        vertical-align: middle;\n",
       "    }\n",
       "\n",
       "    .dataframe tbody tr th {\n",
       "        vertical-align: top;\n",
       "    }\n",
       "\n",
       "    .dataframe thead th {\n",
       "        text-align: right;\n",
       "    }\n",
       "</style>\n",
       "<table border=\"1\" class=\"dataframe\">\n",
       "  <thead>\n",
       "    <tr style=\"text-align: right;\">\n",
       "      <th></th>\n",
       "      <th>Year</th>\n",
       "      <th>Total Deaths</th>\n",
       "      <th>CPI</th>\n",
       "      <th>GDP(million dollars)</th>\n",
       "      <th>Population</th>\n",
       "      <th>healthexp</th>\n",
       "      <th>tmax</th>\n",
       "      <th>Associated Drought</th>\n",
       "      <th>Associated Wildfire</th>\n",
       "      <th>Appeal or Declaration</th>\n",
       "      <th>duration</th>\n",
       "    </tr>\n",
       "  </thead>\n",
       "  <tbody>\n",
       "    <tr>\n",
       "      <th>count</th>\n",
       "      <td>109.000000</td>\n",
       "      <td>109.000000</td>\n",
       "      <td>109.000000</td>\n",
       "      <td>1.090000e+02</td>\n",
       "      <td>1.090000e+02</td>\n",
       "      <td>109.000000</td>\n",
       "      <td>109.000000</td>\n",
       "      <td>109.000000</td>\n",
       "      <td>109.000000</td>\n",
       "      <td>109.000000</td>\n",
       "      <td>109.000000</td>\n",
       "    </tr>\n",
       "    <tr>\n",
       "      <th>mean</th>\n",
       "      <td>2009.385321</td>\n",
       "      <td>1350.532110</td>\n",
       "      <td>79.125043</td>\n",
       "      <td>8.817692e+07</td>\n",
       "      <td>2.345091e+08</td>\n",
       "      <td>2502.721023</td>\n",
       "      <td>28.881529</td>\n",
       "      <td>0.110092</td>\n",
       "      <td>0.055046</td>\n",
       "      <td>0.027523</td>\n",
       "      <td>19.477064</td>\n",
       "    </tr>\n",
       "    <tr>\n",
       "      <th>std</th>\n",
       "      <td>6.174782</td>\n",
       "      <td>6117.980654</td>\n",
       "      <td>10.015751</td>\n",
       "      <td>1.815401e+08</td>\n",
       "      <td>4.105371e+08</td>\n",
       "      <td>2159.701873</td>\n",
       "      <td>5.027452</td>\n",
       "      <td>0.314450</td>\n",
       "      <td>0.229123</td>\n",
       "      <td>0.164357</td>\n",
       "      <td>41.493774</td>\n",
       "    </tr>\n",
       "    <tr>\n",
       "      <th>min</th>\n",
       "      <td>2000.000000</td>\n",
       "      <td>1.000000</td>\n",
       "      <td>63.549547</td>\n",
       "      <td>1.059498e+04</td>\n",
       "      <td>4.516300e+05</td>\n",
       "      <td>10.275986</td>\n",
       "      <td>8.100000</td>\n",
       "      <td>0.000000</td>\n",
       "      <td>0.000000</td>\n",
       "      <td>0.000000</td>\n",
       "      <td>-9.000000</td>\n",
       "    </tr>\n",
       "    <tr>\n",
       "      <th>25%</th>\n",
       "      <td>2004.000000</td>\n",
       "      <td>14.000000</td>\n",
       "      <td>69.706442</td>\n",
       "      <td>4.782389e+05</td>\n",
       "      <td>1.622530e+07</td>\n",
       "      <td>199.499374</td>\n",
       "      <td>26.400000</td>\n",
       "      <td>0.000000</td>\n",
       "      <td>0.000000</td>\n",
       "      <td>0.000000</td>\n",
       "      <td>1.000000</td>\n",
       "    </tr>\n",
       "    <tr>\n",
       "      <th>50%</th>\n",
       "      <td>2007.000000</td>\n",
       "      <td>56.000000</td>\n",
       "      <td>76.518679</td>\n",
       "      <td>2.255283e+06</td>\n",
       "      <td>6.412827e+07</td>\n",
       "      <td>2740.269287</td>\n",
       "      <td>29.100000</td>\n",
       "      <td>0.000000</td>\n",
       "      <td>0.000000</td>\n",
       "      <td>0.000000</td>\n",
       "      <td>7.000000</td>\n",
       "    </tr>\n",
       "    <tr>\n",
       "      <th>75%</th>\n",
       "      <td>2015.000000</td>\n",
       "      <td>338.000000</td>\n",
       "      <td>87.469932</td>\n",
       "      <td>3.495820e+07</td>\n",
       "      <td>1.428495e+08</td>\n",
       "      <td>4291.489746</td>\n",
       "      <td>29.235238</td>\n",
       "      <td>0.000000</td>\n",
       "      <td>0.000000</td>\n",
       "      <td>0.000000</td>\n",
       "      <td>31.000000</td>\n",
       "    </tr>\n",
       "    <tr>\n",
       "      <th>max</th>\n",
       "      <td>2019.000000</td>\n",
       "      <td>55736.000000</td>\n",
       "      <td>94.349092</td>\n",
       "      <td>5.584912e+08</td>\n",
       "      <td>1.366418e+09</td>\n",
       "      <td>8342.580078</td>\n",
       "      <td>41.800000</td>\n",
       "      <td>1.000000</td>\n",
       "      <td>1.000000</td>\n",
       "      <td>1.000000</td>\n",
       "      <td>377.000000</td>\n",
       "    </tr>\n",
       "  </tbody>\n",
       "</table>\n",
       "</div>"
      ],
      "text/plain": [
       "              Year  Total Deaths         CPI  GDP(million dollars)  \\\n",
       "count   109.000000    109.000000  109.000000          1.090000e+02   \n",
       "mean   2009.385321   1350.532110   79.125043          8.817692e+07   \n",
       "std       6.174782   6117.980654   10.015751          1.815401e+08   \n",
       "min    2000.000000      1.000000   63.549547          1.059498e+04   \n",
       "25%    2004.000000     14.000000   69.706442          4.782389e+05   \n",
       "50%    2007.000000     56.000000   76.518679          2.255283e+06   \n",
       "75%    2015.000000    338.000000   87.469932          3.495820e+07   \n",
       "max    2019.000000  55736.000000   94.349092          5.584912e+08   \n",
       "\n",
       "         Population    healthexp        tmax  Associated Drought  \\\n",
       "count  1.090000e+02   109.000000  109.000000          109.000000   \n",
       "mean   2.345091e+08  2502.721023   28.881529            0.110092   \n",
       "std    4.105371e+08  2159.701873    5.027452            0.314450   \n",
       "min    4.516300e+05    10.275986    8.100000            0.000000   \n",
       "25%    1.622530e+07   199.499374   26.400000            0.000000   \n",
       "50%    6.412827e+07  2740.269287   29.100000            0.000000   \n",
       "75%    1.428495e+08  4291.489746   29.235238            0.000000   \n",
       "max    1.366418e+09  8342.580078   41.800000            1.000000   \n",
       "\n",
       "       Associated Wildfire  Appeal or Declaration    duration  \n",
       "count           109.000000             109.000000  109.000000  \n",
       "mean              0.055046               0.027523   19.477064  \n",
       "std               0.229123               0.164357   41.493774  \n",
       "min               0.000000               0.000000   -9.000000  \n",
       "25%               0.000000               0.000000    1.000000  \n",
       "50%               0.000000               0.000000    7.000000  \n",
       "75%               0.000000               0.000000   31.000000  \n",
       "max               1.000000               1.000000  377.000000  "
      ]
     },
     "execution_count": 5,
     "metadata": {},
     "output_type": "execute_result"
    }
   ],
   "source": [
    "df.describe()"
   ]
  },
  {
   "cell_type": "code",
   "execution_count": 7,
   "id": "9b20508d",
   "metadata": {},
   "outputs": [
    {
     "data": {
      "text/plain": [
       "<AxesSubplot:>"
      ]
     },
     "execution_count": 7,
     "metadata": {},
     "output_type": "execute_result"
    },
    {
     "data": {
      "image/png": "[encoded data removed]",
      "text/plain": [
       "<Figure size 648x504 with 2 Axes>"
      ]
     },
     "metadata": {},
     "output_type": "display_data"
    }
   ],
   "source": [
    "sns.set(rc = {'figure.figsize':(9,7)})\n",
    "sns.heatmap(df[['Year','tmax','duration','CPI','GDP(million dollars)','Population','healthexp','Associated Drought',\n",
    "                   'Associated Wildfire','Appeal or Declaration','Total Deaths']].corr(),cmap='RdYlGn',annot=True)"
   ]
  },
  {
   "cell_type": "markdown",
   "id": "199f2f0a",
   "metadata": {},
   "source": [
    "The correlation of Year and CPI is 1, so we drop the column CPI."
   ]
  },
  {
   "cell_type": "code",
   "execution_count": 8,
   "id": "05fefcec",
   "metadata": {},
   "outputs": [],
   "source": [
    "df.drop(['CPI'], axis=1,inplace=True)"
   ]
  },
  {
   "cell_type": "code",
   "execution_count": 9,
   "id": "a8000144",
   "metadata": {
    "scrolled": true
   },
   "outputs": [
    {
     "data": {
      "text/html": [
       "<div>\n",
       "<style scoped>\n",
       "    .dataframe tbody tr th:only-of-type {\n",
       "        vertical-align: middle;\n",
       "    }\n",
       "\n",
       "    .dataframe tbody tr th {\n",
       "        vertical-align: top;\n",
       "    }\n",
       "\n",
       "    .dataframe thead th {\n",
       "        text-align: right;\n",
       "    }\n",
       "</style>\n",
       "<table border=\"1\" class=\"dataframe\">\n",
       "  <thead>\n",
       "    <tr style=\"text-align: right;\">\n",
       "      <th></th>\n",
       "      <th>Year</th>\n",
       "      <th>GDP(million dollars)</th>\n",
       "      <th>Population</th>\n",
       "      <th>healthexp</th>\n",
       "      <th>tmax</th>\n",
       "      <th>Associated Drought</th>\n",
       "      <th>Associated Wildfire</th>\n",
       "      <th>Appeal or Declaration</th>\n",
       "      <th>duration</th>\n",
       "    </tr>\n",
       "  </thead>\n",
       "  <tbody>\n",
       "    <tr>\n",
       "      <th>0</th>\n",
       "      <td>2000</td>\n",
       "      <td>28124.88</td>\n",
       "      <td>8170172</td>\n",
       "      <td>94.497452</td>\n",
       "      <td>34.6</td>\n",
       "      <td>0</td>\n",
       "      <td>0</td>\n",
       "      <td>0</td>\n",
       "      <td>31</td>\n",
       "    </tr>\n",
       "    <tr>\n",
       "      <th>1</th>\n",
       "      <td>2000</td>\n",
       "      <td>10594.98</td>\n",
       "      <td>943288</td>\n",
       "      <td>750.516724</td>\n",
       "      <td>34.1</td>\n",
       "      <td>0</td>\n",
       "      <td>0</td>\n",
       "      <td>0</td>\n",
       "      <td>1</td>\n",
       "    </tr>\n",
       "    <tr>\n",
       "      <th>2</th>\n",
       "      <td>2000</td>\n",
       "      <td>141247.28</td>\n",
       "      <td>10805808</td>\n",
       "      <td>885.410400</td>\n",
       "      <td>33.8</td>\n",
       "      <td>0</td>\n",
       "      <td>0</td>\n",
       "      <td>0</td>\n",
       "      <td>1</td>\n",
       "    </tr>\n",
       "    <tr>\n",
       "      <th>3</th>\n",
       "      <td>2000</td>\n",
       "      <td>171494.21</td>\n",
       "      <td>63240196</td>\n",
       "      <td>199.499374</td>\n",
       "      <td>27.6</td>\n",
       "      <td>1</td>\n",
       "      <td>0</td>\n",
       "      <td>0</td>\n",
       "      <td>31</td>\n",
       "    </tr>\n",
       "    <tr>\n",
       "      <th>4</th>\n",
       "      <td>2000</td>\n",
       "      <td>80873.10</td>\n",
       "      <td>22442971</td>\n",
       "      <td>69.893456</td>\n",
       "      <td>26.5</td>\n",
       "      <td>0</td>\n",
       "      <td>0</td>\n",
       "      <td>0</td>\n",
       "      <td>1</td>\n",
       "    </tr>\n",
       "  </tbody>\n",
       "</table>\n",
       "</div>"
      ],
      "text/plain": [
       "   Year  GDP(million dollars)  Population   healthexp  tmax  \\\n",
       "0  2000              28124.88     8170172   94.497452  34.6   \n",
       "1  2000              10594.98      943288  750.516724  34.1   \n",
       "2  2000             141247.28    10805808  885.410400  33.8   \n",
       "3  2000             171494.21    63240196  199.499374  27.6   \n",
       "4  2000              80873.10    22442971   69.893456  26.5   \n",
       "\n",
       "   Associated Drought  Associated Wildfire  Appeal or Declaration  duration  \n",
       "0                   0                    0                      0        31  \n",
       "1                   0                    0                      0         1  \n",
       "2                   0                    0                      0         1  \n",
       "3                   1                    0                      0        31  \n",
       "4                   0                    0                      0         1  "
      ]
     },
     "execution_count": 9,
     "metadata": {},
     "output_type": "execute_result"
    }
   ],
   "source": [
    "x = df[['Year','GDP(million dollars)','Population','healthexp','tmax','Associated Drought','Associated Wildfire',\n",
    "        'Appeal or Declaration','duration']]\n",
    "y = df[['Total Deaths']]\n",
    "x.head()"
   ]
  },
  {
   "cell_type": "markdown",
   "id": "9240878b",
   "metadata": {},
   "source": [
    "## Change the scale of several variables"
   ]
  },
  {
   "cell_type": "code",
   "execution_count": 10,
   "id": "5b34ff62",
   "metadata": {
    "scrolled": false
   },
   "outputs": [
    {
     "data": {
      "text/html": [
       "<div>\n",
       "<style scoped>\n",
       "    .dataframe tbody tr th:only-of-type {\n",
       "        vertical-align: middle;\n",
       "    }\n",
       "\n",
       "    .dataframe tbody tr th {\n",
       "        vertical-align: top;\n",
       "    }\n",
       "\n",
       "    .dataframe thead th {\n",
       "        text-align: right;\n",
       "    }\n",
       "</style>\n",
       "<table border=\"1\" class=\"dataframe\">\n",
       "  <thead>\n",
       "    <tr style=\"text-align: right;\">\n",
       "      <th></th>\n",
       "      <th>tmax</th>\n",
       "      <th>Associated Drought</th>\n",
       "      <th>Associated Wildfire</th>\n",
       "      <th>Appeal or Declaration</th>\n",
       "      <th>duration</th>\n",
       "      <th>Yearnew</th>\n",
       "      <th>log_GDP(million dollars)</th>\n",
       "      <th>log_Population(e+07)</th>\n",
       "      <th>log_healthexp(e+07 dollars)</th>\n",
       "    </tr>\n",
       "  </thead>\n",
       "  <tbody>\n",
       "    <tr>\n",
       "      <th>0</th>\n",
       "      <td>34.6</td>\n",
       "      <td>0</td>\n",
       "      <td>0</td>\n",
       "      <td>0</td>\n",
       "      <td>31</td>\n",
       "      <td>7.600902</td>\n",
       "      <td>10.244410</td>\n",
       "      <td>15.916001</td>\n",
       "      <td>4.548573</td>\n",
       "    </tr>\n",
       "    <tr>\n",
       "      <th>1</th>\n",
       "      <td>34.1</td>\n",
       "      <td>0</td>\n",
       "      <td>0</td>\n",
       "      <td>0</td>\n",
       "      <td>1</td>\n",
       "      <td>7.600902</td>\n",
       "      <td>9.268136</td>\n",
       "      <td>13.757127</td>\n",
       "      <td>6.620762</td>\n",
       "    </tr>\n",
       "    <tr>\n",
       "      <th>2</th>\n",
       "      <td>33.8</td>\n",
       "      <td>0</td>\n",
       "      <td>0</td>\n",
       "      <td>0</td>\n",
       "      <td>1</td>\n",
       "      <td>7.600902</td>\n",
       "      <td>11.858267</td>\n",
       "      <td>16.195594</td>\n",
       "      <td>6.786051</td>\n",
       "    </tr>\n",
       "    <tr>\n",
       "      <th>3</th>\n",
       "      <td>27.6</td>\n",
       "      <td>1</td>\n",
       "      <td>0</td>\n",
       "      <td>0</td>\n",
       "      <td>31</td>\n",
       "      <td>7.600902</td>\n",
       "      <td>12.052305</td>\n",
       "      <td>17.962451</td>\n",
       "      <td>5.295811</td>\n",
       "    </tr>\n",
       "    <tr>\n",
       "      <th>4</th>\n",
       "      <td>26.5</td>\n",
       "      <td>0</td>\n",
       "      <td>0</td>\n",
       "      <td>0</td>\n",
       "      <td>1</td>\n",
       "      <td>7.600902</td>\n",
       "      <td>11.300637</td>\n",
       "      <td>16.926488</td>\n",
       "      <td>4.246972</td>\n",
       "    </tr>\n",
       "  </tbody>\n",
       "</table>\n",
       "</div>"
      ],
      "text/plain": [
       "   tmax  Associated Drought  Associated Wildfire  Appeal or Declaration  \\\n",
       "0  34.6                   0                    0                      0   \n",
       "1  34.1                   0                    0                      0   \n",
       "2  33.8                   0                    0                      0   \n",
       "3  27.6                   1                    0                      0   \n",
       "4  26.5                   0                    0                      0   \n",
       "\n",
       "   duration   Yearnew  log_GDP(million dollars)  log_Population(e+07)  \\\n",
       "0        31  7.600902                 10.244410             15.916001   \n",
       "1         1  7.600902                  9.268136             13.757127   \n",
       "2         1  7.600902                 11.858267             16.195594   \n",
       "3        31  7.600902                 12.052305             17.962451   \n",
       "4         1  7.600902                 11.300637             16.926488   \n",
       "\n",
       "   log_healthexp(e+07 dollars)  \n",
       "0                     4.548573  \n",
       "1                     6.620762  \n",
       "2                     6.786051  \n",
       "3                     5.295811  \n",
       "4                     4.246972  "
      ]
     },
     "execution_count": 10,
     "metadata": {},
     "output_type": "execute_result"
    }
   ],
   "source": [
    "x['Yearnew']=x['Year'].apply(np.log)\n",
    "x['log_GDP(million dollars)']=x['GDP(million dollars)'].apply(np.log)\n",
    "x['log_Population(e+07)']=x['Population'].apply(np.log)\n",
    "x['log_healthexp(e+07 dollars)']=x['healthexp'].apply(np.log)\n",
    "x.drop(['Year','GDP(million dollars)','Population','healthexp'],axis=1,inplace=True)\n",
    "x.head()"
   ]
  },
  {
   "cell_type": "markdown",
   "id": "24fec309",
   "metadata": {},
   "source": [
    "## Split test and train dataset"
   ]
  },
  {
   "cell_type": "code",
   "execution_count": 11,
   "id": "61583fce",
   "metadata": {},
   "outputs": [
    {
     "name": "stdout",
     "output_type": "stream",
     "text": [
      "(87, 9)\n",
      "(87, 1)\n",
      "(22, 9)\n",
      "(22, 1)\n"
     ]
    }
   ],
   "source": [
    "x_train, x_test, y_train, y_test = train_test_split(x, y, random_state=6,test_size=0.2, shuffle=True)\n",
    "print(x_train.shape)\n",
    "print(y_train.shape)\n",
    "print(x_test.shape)\n",
    "print(y_test.shape)"
   ]
  },
  {
   "cell_type": "markdown",
   "id": "5c13f251",
   "metadata": {},
   "source": [
    "## Poisson regression \n",
    "Poisson regression is used to predict a dependent variable that consists of \"count data\" given one or more independent variables. Here we can regard the total deaths as the count of deaths."
   ]
  },
  {
   "cell_type": "code",
   "execution_count": 12,
   "id": "a167ac00",
   "metadata": {
    "scrolled": true
   },
   "outputs": [
    {
     "name": "stdout",
     "output_type": "stream",
     "text": [
      "                 Generalized Linear Model Regression Results                  \n",
      "==============================================================================\n",
      "Dep. Variable:           Total Deaths   No. Observations:                   87\n",
      "Model:                            GLM   Df Residuals:                       78\n",
      "Model Family:                 Poisson   Df Model:                            8\n",
      "Link Function:                    Log   Scale:                          1.0000\n",
      "Method:                          IRLS   Log-Likelihood:                -55908.\n",
      "Date:                Sun, 14 Aug 2022   Deviance:                   1.1128e+05\n",
      "Time:                        11:27:07   Pearson chi2:                 1.70e+05\n",
      "No. Iterations:                     7   Pseudo R-squ. (CS):              1.000\n",
      "Covariance Type:            nonrobust                                         \n",
      "===============================================================================================\n",
      "                                  coef    std err          z      P>|z|      [0.025      0.975]\n",
      "-----------------------------------------------------------------------------------------------\n",
      "tmax                           -0.2367      0.000   -543.231      0.000      -0.238      -0.236\n",
      "Associated Drought              3.3602      0.009    354.866      0.000       3.342       3.379\n",
      "Associated Wildfire            -1.8622      0.041    -45.825      0.000      -1.942      -1.783\n",
      "Appeal or Declaration           1.3312      0.031     42.754      0.000       1.270       1.392\n",
      "duration                        0.0035   7.53e-05     47.052      0.000       0.003       0.004\n",
      "Yearnew                         1.0406      0.012     89.311      0.000       1.018       1.063\n",
      "log_GDP(million dollars)        0.1199      0.003     43.819      0.000       0.115       0.125\n",
      "log_Population(e+07)            0.1523      0.005     28.420      0.000       0.142       0.163\n",
      "log_healthexp(e+07 dollars)    -0.0574      0.003    -18.104      0.000      -0.064      -0.051\n",
      "===============================================================================================\n"
     ]
    }
   ],
   "source": [
    "pmodel = sm.GLM(y_train,x_train,family=sm.families.Poisson())\n",
    "results = pmodel.fit()\n",
    "print(results.summary())"
   ]
  },
  {
   "cell_type": "markdown",
   "id": "a25e26b3",
   "metadata": {},
   "source": [
    "All the coefficients are significant"
   ]
  },
  {
   "cell_type": "markdown",
   "id": "b22384cb",
   "metadata": {},
   "source": [
    "## Diagnosis "
   ]
  },
  {
   "cell_type": "code",
   "execution_count": 13,
   "id": "cff4c5dd",
   "metadata": {},
   "outputs": [
    {
     "data": {
      "image/png": "[encoded data removed]",
      "text/plain": [
       "<Figure size 648x504 with 1 Axes>"
      ]
     },
     "metadata": {},
     "output_type": "display_data"
    }
   ],
   "source": [
    "predict_1 = results.predict()\n",
    "plt.scatter(predict_1, y_train)\n",
    "plt.axline([0,0],slope=1,c=\".2\", ls=\"--\")\n",
    "plt.title('Model Fit Plot')\n",
    "plt.xlabel('y_predicted')\n",
    "plt.ylabel('y_true')\n",
    "plt.show()"
   ]
  },
  {
   "cell_type": "code",
   "execution_count": 14,
   "id": "6cd8092f",
   "metadata": {
    "scrolled": false
   },
   "outputs": [
    {
     "data": {
      "image/png": "[encoded data removed]",
      "text/plain": [
       "<Figure size 648x504 with 1 Axes>"
      ]
     },
     "metadata": {},
     "output_type": "display_data"
    }
   ],
   "source": [
    "fig, ax = plt.subplots()\n",
    "resid = results.resid_deviance.copy()\n",
    "resid_std = stats.zscore(resid)\n",
    "ax.hist(resid_std, bins=25)\n",
    "ax.set_title('Histogram of standardized deviance residuals');"
   ]
  },
  {
   "cell_type": "markdown",
   "id": "ebe55f39",
   "metadata": {},
   "source": [
    "Clearly, we can see some extreme outliers"
   ]
  },
  {
   "cell_type": "code",
   "execution_count": 15,
   "id": "586ce47f",
   "metadata": {
    "scrolled": true
   },
   "outputs": [
    {
     "data": {
      "text/html": [
       "<div>\n",
       "<style scoped>\n",
       "    .dataframe tbody tr th:only-of-type {\n",
       "        vertical-align: middle;\n",
       "    }\n",
       "\n",
       "    .dataframe tbody tr th {\n",
       "        vertical-align: top;\n",
       "    }\n",
       "\n",
       "    .dataframe thead th {\n",
       "        text-align: right;\n",
       "    }\n",
       "</style>\n",
       "<table border=\"1\" class=\"dataframe\">\n",
       "  <thead>\n",
       "    <tr style=\"text-align: right;\">\n",
       "      <th></th>\n",
       "      <th>ABS SDR</th>\n",
       "    </tr>\n",
       "  </thead>\n",
       "  <tbody>\n",
       "    <tr>\n",
       "      <th>17</th>\n",
       "      <td>2.683163</td>\n",
       "    </tr>\n",
       "    <tr>\n",
       "      <th>3</th>\n",
       "      <td>2.962602</td>\n",
       "    </tr>\n",
       "    <tr>\n",
       "      <th>28</th>\n",
       "      <td>3.050561</td>\n",
       "    </tr>\n",
       "    <tr>\n",
       "      <th>15</th>\n",
       "      <td>4.357260</td>\n",
       "    </tr>\n",
       "    <tr>\n",
       "      <th>77</th>\n",
       "      <td>2.553992</td>\n",
       "    </tr>\n",
       "  </tbody>\n",
       "</table>\n",
       "</div>"
      ],
      "text/plain": [
       "     ABS SDR\n",
       "17  2.683163\n",
       "3   2.962602\n",
       "28  3.050561\n",
       "15  4.357260\n",
       "77  2.553992"
      ]
     },
     "execution_count": 15,
     "metadata": {},
     "output_type": "execute_result"
    }
   ],
   "source": [
    "a=pd.DataFrame(abs(resid_std),columns=['ABS SDR'])\n",
    "outliers=a.loc[a['ABS SDR']>=2.5]\n",
    "outliers"
   ]
  },
  {
   "cell_type": "code",
   "execution_count": 16,
   "id": "f5ed54bf",
   "metadata": {},
   "outputs": [
    {
     "name": "stdout",
     "output_type": "stream",
     "text": [
      "(82, 9)\n",
      "(82, 1)\n"
     ]
    }
   ],
   "source": [
    "x_train_new=x_train.drop(index=[3,15,17,28,77])\n",
    "y_train_new=y_train.drop(index=[3,15,17,28,77])\n",
    "print(x_train_new.shape)\n",
    "print(y_train_new.shape)"
   ]
  },
  {
   "cell_type": "code",
   "execution_count": 17,
   "id": "49de1659",
   "metadata": {
    "scrolled": false
   },
   "outputs": [
    {
     "name": "stdout",
     "output_type": "stream",
     "text": [
      "                 Generalized Linear Model Regression Results                  \n",
      "==============================================================================\n",
      "Dep. Variable:           Total Deaths   No. Observations:                   82\n",
      "Model:                            GLM   Df Residuals:                       73\n",
      "Model Family:                 Poisson   Df Model:                            8\n",
      "Link Function:                    Log   Scale:                          1.0000\n",
      "Method:                          IRLS   Log-Likelihood:                -17680.\n",
      "Date:                Sun, 14 Aug 2022   Deviance:                       34866.\n",
      "Time:                        11:27:21   Pearson chi2:                 6.00e+04\n",
      "No. Iterations:                     7   Pseudo R-squ. (CS):              1.000\n",
      "Covariance Type:            nonrobust                                         \n",
      "===============================================================================================\n",
      "                                  coef    std err          z      P>|z|      [0.025      0.975]\n",
      "-----------------------------------------------------------------------------------------------\n",
      "tmax                           -0.2621      0.001   -467.445      0.000      -0.263      -0.261\n",
      "Associated Drought              3.0362      0.014    216.434      0.000       3.009       3.064\n",
      "Associated Wildfire            -0.8459      0.042    -20.122      0.000      -0.928      -0.764\n",
      "Appeal or Declaration           1.2791      0.032     39.405      0.000       1.215       1.343\n",
      "duration                        0.0017      0.000     12.446      0.000       0.001       0.002\n",
      "Yearnew                         1.1479      0.016     73.991      0.000       1.118       1.178\n",
      "log_GDP(million dollars)        0.1178      0.004     30.016      0.000       0.110       0.125\n",
      "log_Population(e+07)            0.1819      0.007     25.307      0.000       0.168       0.196\n",
      "log_healthexp(e+07 dollars)    -0.2075      0.004    -46.919      0.000      -0.216      -0.199\n",
      "===============================================================================================\n"
     ]
    }
   ],
   "source": [
    "#refit the model\n",
    "pmodel2 = sm.GLM(y_train_new,x_train_new,family=sm.families.Poisson())\n",
    "results2 = pmodel2.fit()\n",
    "print(results2.summary())"
   ]
  },
  {
   "cell_type": "markdown",
   "id": "d59141c2",
   "metadata": {},
   "source": [
    "We can see that the coefficient has changed a lot. The Log-Likelihood is much larger, and the Pseudo R-squ. (CS) is quite close to 1."
   ]
  },
  {
   "cell_type": "markdown",
   "id": "3f467b59",
   "metadata": {},
   "source": [
    "##  Overdispersion\n",
    "In a poisson model we assume that the mean is equal to variance, and this is often not the case in practice."
   ]
  },
  {
   "cell_type": "code",
   "execution_count": 18,
   "id": "386a2e9c",
   "metadata": {},
   "outputs": [
    {
     "name": "stdout",
     "output_type": "stream",
     "text": [
      "mean: Total Deaths    1021.268293\n",
      "dtype: float64\n",
      "variance: Total Deaths    3.810554e+07\n",
      "dtype: float64\n"
     ]
    }
   ],
   "source": [
    "print('mean:',np.mean(y_train_new))\n",
    "print('variance:',np.var(y_train_new))"
   ]
  },
  {
   "cell_type": "markdown",
   "id": "dfeadeb1",
   "metadata": {},
   "source": [
    "Here variance is much larger than the mean. We choose a negative binomial model to fix it."
   ]
  },
  {
   "cell_type": "markdown",
   "id": "1728259b",
   "metadata": {},
   "source": [
    "##  Negative binomial model"
   ]
  },
  {
   "cell_type": "code",
   "execution_count": 19,
   "id": "05e582b2",
   "metadata": {},
   "outputs": [
    {
     "name": "stdout",
     "output_type": "stream",
     "text": [
      "                 Generalized Linear Model Regression Results                  \n",
      "==============================================================================\n",
      "Dep. Variable:           Total Deaths   No. Observations:                   87\n",
      "Model:                            GLM   Df Residuals:                       78\n",
      "Model Family:        NegativeBinomial   Df Model:                            8\n",
      "Link Function:                    Log   Scale:                          1.0000\n",
      "Method:                          IRLS   Log-Likelihood:                -595.89\n",
      "Date:                Sun, 14 Aug 2022   Deviance:                       251.05\n",
      "Time:                        11:27:26   Pearson chi2:                     236.\n",
      "No. Iterations:                   100   Pseudo R-squ. (CS):             0.9416\n",
      "Covariance Type:            nonrobust                                         \n",
      "===============================================================================================\n",
      "                                  coef    std err          z      P>|z|      [0.025      0.975]\n",
      "-----------------------------------------------------------------------------------------------\n",
      "tmax                           -0.1784      0.025     -7.122      0.000      -0.227      -0.129\n",
      "Associated Drought              3.1561      0.387      8.164      0.000       2.398       3.914\n",
      "Associated Wildfire            -2.7203      0.642     -4.238      0.000      -3.978      -1.462\n",
      "Appeal or Declaration           1.1773      1.033      1.140      0.254      -0.848       3.202\n",
      "duration                        0.0059      0.002      2.484      0.013       0.001       0.011\n",
      "Yearnew                         1.0581      0.238      4.447      0.000       0.592       1.524\n",
      "log_GDP(million dollars)       -0.1315      0.065     -2.017      0.044      -0.259      -0.004\n",
      "log_Population(e+07)            0.3012      0.107      2.821      0.005       0.092       0.510\n",
      "log_healthexp(e+07 dollars)    -0.1240      0.076     -1.625      0.104      -0.273       0.026\n",
      "===============================================================================================\n"
     ]
    }
   ],
   "source": [
    "pmodel3 = sm.GLM(y_train,x_train,family=sm.families.NegativeBinomial())\n",
    "results3 = pmodel3.fit()\n",
    "print(results3.summary())"
   ]
  },
  {
   "cell_type": "code",
   "execution_count": 20,
   "id": "8a495bdd",
   "metadata": {
    "scrolled": true
   },
   "outputs": [
    {
     "data": {
      "image/png": "[encoded data removed]",
      "text/plain": [
       "<Figure size 648x504 with 1 Axes>"
      ]
     },
     "metadata": {},
     "output_type": "display_data"
    }
   ],
   "source": [
    "predict_3 = results3.predict()\n",
    "plt.scatter(predict_3, y_train)\n",
    "plt.axline([0,0],slope=1,c=\".2\", ls=\"--\")\n",
    "plt.title('Model Fit Plot')\n",
    "plt.xlabel('y_predicted')\n",
    "plt.ylabel('y_true')\n",
    "plt.show()"
   ]
  },
  {
   "cell_type": "code",
   "execution_count": 21,
   "id": "943b9831",
   "metadata": {
    "scrolled": true
   },
   "outputs": [
    {
     "data": {
      "image/png": "[encoded data removed]",
      "text/plain": [
       "<Figure size 648x504 with 1 Axes>"
      ]
     },
     "metadata": {},
     "output_type": "display_data"
    }
   ],
   "source": [
    "fig, ax = plt.subplots()\n",
    "resid3 = results3.resid_deviance.copy()\n",
    "resid_std3 = stats.zscore(resid3)\n",
    "ax.hist(resid_std3, bins=25)\n",
    "ax.set_title('Histogram of standardized deviance residuals');"
   ]
  },
  {
   "cell_type": "markdown",
   "id": "2048fbc6",
   "metadata": {},
   "source": [
    "## Also some outliers for the negative binomial model"
   ]
  },
  {
   "cell_type": "code",
   "execution_count": 22,
   "id": "eee3e011",
   "metadata": {
    "scrolled": false
   },
   "outputs": [
    {
     "data": {
      "text/html": [
       "<div>\n",
       "<style scoped>\n",
       "    .dataframe tbody tr th:only-of-type {\n",
       "        vertical-align: middle;\n",
       "    }\n",
       "\n",
       "    .dataframe tbody tr th {\n",
       "        vertical-align: top;\n",
       "    }\n",
       "\n",
       "    .dataframe thead th {\n",
       "        text-align: right;\n",
       "    }\n",
       "</style>\n",
       "<table border=\"1\" class=\"dataframe\">\n",
       "  <thead>\n",
       "    <tr style=\"text-align: right;\">\n",
       "      <th></th>\n",
       "      <th>ABS SDR</th>\n",
       "    </tr>\n",
       "  </thead>\n",
       "  <tbody>\n",
       "    <tr>\n",
       "      <th>28</th>\n",
       "      <td>2.896078</td>\n",
       "    </tr>\n",
       "  </tbody>\n",
       "</table>\n",
       "</div>"
      ],
      "text/plain": [
       "     ABS SDR\n",
       "28  2.896078"
      ]
     },
     "execution_count": 22,
     "metadata": {},
     "output_type": "execute_result"
    }
   ],
   "source": [
    "b=pd.DataFrame(abs(resid_std3),columns=['ABS SDR'])\n",
    "outliers2=b.loc[b['ABS SDR']>=2.5]\n",
    "outliers2"
   ]
  },
  {
   "cell_type": "code",
   "execution_count": 23,
   "id": "09481807",
   "metadata": {
    "scrolled": true
   },
   "outputs": [
    {
     "name": "stdout",
     "output_type": "stream",
     "text": [
      "                 Generalized Linear Model Regression Results                  \n",
      "==============================================================================\n",
      "Dep. Variable:           Total Deaths   No. Observations:                   86\n",
      "Model:                            GLM   Df Residuals:                       77\n",
      "Model Family:        NegativeBinomial   Df Model:                            8\n",
      "Link Function:                    Log   Scale:                          1.0000\n",
      "Method:                          IRLS   Log-Likelihood:                -580.56\n",
      "Date:                Sun, 14 Aug 2022   Deviance:                       238.19\n",
      "Time:                        11:27:55   Pearson chi2:                     216.\n",
      "No. Iterations:                   100   Pseudo R-squ. (CS):             0.9511\n",
      "Covariance Type:            nonrobust                                         \n",
      "===============================================================================================\n",
      "                                  coef    std err          z      P>|z|      [0.025      0.975]\n",
      "-----------------------------------------------------------------------------------------------\n",
      "tmax                           -0.2049      0.025     -8.180      0.000      -0.254      -0.156\n",
      "Associated Drought              3.4633      0.387      8.943      0.000       2.704       4.222\n",
      "Associated Wildfire            -2.4204      0.643     -3.766      0.000      -3.680      -1.161\n",
      "Appeal or Declaration           1.2407      1.033      1.201      0.230      -0.784       3.266\n",
      "duration                        0.0078      0.002      3.273      0.001       0.003       0.012\n",
      "Yearnew                         0.9497      0.238      3.984      0.000       0.482       1.417\n",
      "log_GDP(million dollars)        0.0062      0.065      0.095      0.924      -0.122       0.134\n",
      "log_Population(e+07)            0.2532      0.107      2.370      0.018       0.044       0.463\n",
      "log_healthexp(e+07 dollars)    -0.1009      0.076     -1.322      0.186      -0.250       0.049\n",
      "===============================================================================================\n"
     ]
    }
   ],
   "source": [
    "x_train_nb=x_train.drop(index=[28])\n",
    "y_train_nb=y_train.drop(index=[28])\n",
    "pmodel4 = sm.GLM(y_train_nb,x_train_nb,family=sm.families.NegativeBinomial())\n",
    "results4 = pmodel4.fit()\n",
    "print(results4.summary())"
   ]
  },
  {
   "cell_type": "markdown",
   "id": "4604d5e3",
   "metadata": {},
   "source": [
    "Negative binomia model has a much better performance than the poisson model: the Log-Likelihood is even closer to zero, and the residual plot also has a better shape."
   ]
  },
  {
   "cell_type": "markdown",
   "id": "336f3e4c",
   "metadata": {},
   "source": [
    "## Validate with the test group"
   ]
  },
  {
   "cell_type": "code",
   "execution_count": 24,
   "id": "07138216",
   "metadata": {},
   "outputs": [
    {
     "data": {
      "image/png": "[encoded data removed]",
      "text/plain": [
       "<Figure size 1008x432 with 2 Axes>"
      ]
     },
     "metadata": {},
     "output_type": "display_data"
    }
   ],
   "source": [
    "fig = plt.figure(figsize=(14,6))\n",
    "plt.subplot(1,2,1)\n",
    "predict_2 = results2.predict(x_test)\n",
    "plt.scatter(predict_2,y_test)\n",
    "plt.axline([0,0],slope=1,c=\".2\", ls=\"--\")\n",
    "plt.title('Piosson Model Test Group')\n",
    "plt.xlabel('y_predicted')\n",
    "plt.ylabel('y_true')\n",
    "plt.subplot(1,2,2)\n",
    "predict_4 = results4.predict(x_test)\n",
    "plt.scatter(predict_4,y_test)\n",
    "plt.axline([0,0],slope=1,c=\".2\", ls=\"--\")\n",
    "plt.title('Negative Binomia Model Test Group')\n",
    "plt.xlabel('y_predicted')\n",
    "plt.ylabel('y_true')\n",
    "plt.show()"
   ]
  },
  {
   "cell_type": "code",
   "execution_count": 25,
   "id": "7fb374f0",
   "metadata": {
    "scrolled": true
   },
   "outputs": [
    {
     "name": "stdout",
     "output_type": "stream",
     "text": [
      "MSEPoisson: 7681133\n",
      "Negative binomial: 6147070\n"
     ]
    }
   ],
   "source": [
    "resp=y_test.values.ravel()-predict_2\n",
    "resn=y_test.values.ravel()-predict_4\n",
    "c=resp*resn\n",
    "d=resn*resn\n",
    "MSEP=np.mean(c)\n",
    "MSEN=np.mean(d)\n",
    "print('MSEPoisson:',round(MSEP))\n",
    "print('Negative binomial:',round(MSEN))"
   ]
  },
  {
   "cell_type": "markdown",
   "id": "a62fc827",
   "metadata": {},
   "source": [
    "The negative binomial model also has a smaller MSE, so we choose this model to predict heatwaves in the future. Note that this model still work bad with some extreme situations, one reason may be that the records are incorrect. But if the dataset does not make any mistakes, that suggests that we still need some more useful variables to predict the total deaths. More research should be made and more data should be collected. To fight with the heatwave, we still have a long way to go."
   ]
  },
  {
   "cell_type": "code",
   "execution_count": null,
   "id": "109ea348",
   "metadata": {},
   "outputs": [],
   "source": []
  }
 ],
 "metadata": {
  "kernelspec": {
   "display_name": "Python 3 (ipykernel)",
   "language": "python",
   "name": "python3"
  },
  "language_info": {
   "codemirror_mode": {
    "name": "ipython",
    "version": 3
   },
   "file_extension": ".py",
   "mimetype": "text/x-python",
   "name": "python",
   "nbconvert_exporter": "python",
   "pygments_lexer": "ipython3",
   "version": "3.10.4"
  }
 },
 "nbformat": 4,
 "nbformat_minor": 5
}
