{
 "cells": [
  {
   "cell_type": "markdown",
   "id": "8cf61570",
   "metadata": {},
   "source": [
    "# Predict deaths"
   ]
  },
  {
   "cell_type": "code",
   "execution_count": 14,
   "id": "12e2222d",
   "metadata": {},
   "outputs": [],
   "source": [
    "import warnings\n",
    "import pandas as pd\n",
    "import numpy as np\n",
    "import seaborn as sns\n",
    "from sklearn.model_selection import train_test_split\n",
    "import statsmodels.api as sm\n",
    "import matplotlib.pyplot as plt\n",
    "from scipy import stats"
   ]
  },
  {
   "cell_type": "code",
   "execution_count": 2,
   "id": "885c6847",
   "metadata": {},
   "outputs": [],
   "source": [
    "warnings.filterwarnings('ignore')"
   ]
  },
  {
   "cell_type": "code",
   "execution_count": 3,
   "id": "98bc0b27",
   "metadata": {},
   "outputs": [
    {
     "data": {
      "text/html": [
       "<div>\n",
       "<style scoped>\n",
       "    .dataframe tbody tr th:only-of-type {\n",
       "        vertical-align: middle;\n",
       "    }\n",
       "\n",
       "    .dataframe tbody tr th {\n",
       "        vertical-align: top;\n",
       "    }\n",
       "\n",
       "    .dataframe thead th {\n",
       "        text-align: right;\n",
       "    }\n",
       "</style>\n",
       "<table border=\"1\" class=\"dataframe\">\n",
       "  <thead>\n",
       "    <tr style=\"text-align: right;\">\n",
       "      <th></th>\n",
       "      <th>Year</th>\n",
       "      <th>Country</th>\n",
       "      <th>ISO</th>\n",
       "      <th>Total Deaths</th>\n",
       "      <th>CPI</th>\n",
       "      <th>GDP(million dollars)</th>\n",
       "      <th>Population</th>\n",
       "      <th>healthexp</th>\n",
       "      <th>tmax</th>\n",
       "      <th>Associated Drought</th>\n",
       "      <th>Associated Wildfire</th>\n",
       "      <th>Appeal or Declaration</th>\n",
       "      <th>duration</th>\n",
       "    </tr>\n",
       "  </thead>\n",
       "  <tbody>\n",
       "    <tr>\n",
       "      <th>0</th>\n",
       "      <td>2000</td>\n",
       "      <td>Bulgaria</td>\n",
       "      <td>BGR</td>\n",
       "      <td>7</td>\n",
       "      <td>63.549547</td>\n",
       "      <td>28124.88</td>\n",
       "      <td>8170172</td>\n",
       "      <td>94.497452</td>\n",
       "      <td>34.6</td>\n",
       "      <td>0</td>\n",
       "      <td>0</td>\n",
       "      <td>0</td>\n",
       "      <td>31</td>\n",
       "    </tr>\n",
       "    <tr>\n",
       "      <th>1</th>\n",
       "      <td>2000</td>\n",
       "      <td>Cyprus</td>\n",
       "      <td>CYP</td>\n",
       "      <td>5</td>\n",
       "      <td>63.549547</td>\n",
       "      <td>10594.98</td>\n",
       "      <td>943288</td>\n",
       "      <td>750.516724</td>\n",
       "      <td>34.1</td>\n",
       "      <td>0</td>\n",
       "      <td>0</td>\n",
       "      <td>0</td>\n",
       "      <td>1</td>\n",
       "    </tr>\n",
       "    <tr>\n",
       "      <th>2</th>\n",
       "      <td>2000</td>\n",
       "      <td>Greece</td>\n",
       "      <td>GRC</td>\n",
       "      <td>27</td>\n",
       "      <td>63.549547</td>\n",
       "      <td>141247.28</td>\n",
       "      <td>10805808</td>\n",
       "      <td>885.410400</td>\n",
       "      <td>33.8</td>\n",
       "      <td>0</td>\n",
       "      <td>0</td>\n",
       "      <td>0</td>\n",
       "      <td>1</td>\n",
       "    </tr>\n",
       "    <tr>\n",
       "      <th>3</th>\n",
       "      <td>2000</td>\n",
       "      <td>Turkey</td>\n",
       "      <td>TUR</td>\n",
       "      <td>11</td>\n",
       "      <td>63.549547</td>\n",
       "      <td>171494.21</td>\n",
       "      <td>63240196</td>\n",
       "      <td>199.499374</td>\n",
       "      <td>27.6</td>\n",
       "      <td>1</td>\n",
       "      <td>0</td>\n",
       "      <td>0</td>\n",
       "      <td>31</td>\n",
       "    </tr>\n",
       "    <tr>\n",
       "      <th>4</th>\n",
       "      <td>2000</td>\n",
       "      <td>Romania</td>\n",
       "      <td>ROU</td>\n",
       "      <td>6</td>\n",
       "      <td>63.549547</td>\n",
       "      <td>80873.10</td>\n",
       "      <td>22442971</td>\n",
       "      <td>69.893456</td>\n",
       "      <td>26.5</td>\n",
       "      <td>0</td>\n",
       "      <td>0</td>\n",
       "      <td>0</td>\n",
       "      <td>1</td>\n",
       "    </tr>\n",
       "  </tbody>\n",
       "</table>\n",
       "</div>"
      ],
      "text/plain": [
       "   Year   Country  ISO  Total Deaths        CPI  GDP(million dollars)  \\\n",
       "0  2000  Bulgaria  BGR             7  63.549547              28124.88   \n",
       "1  2000    Cyprus  CYP             5  63.549547              10594.98   \n",
       "2  2000    Greece  GRC            27  63.549547             141247.28   \n",
       "3  2000    Turkey  TUR            11  63.549547             171494.21   \n",
       "4  2000   Romania  ROU             6  63.549547              80873.10   \n",
       "\n",
       "   Population   healthexp  tmax  Associated Drought  Associated Wildfire  \\\n",
       "0     8170172   94.497452  34.6                   0                    0   \n",
       "1      943288  750.516724  34.1                   0                    0   \n",
       "2    10805808  885.410400  33.8                   0                    0   \n",
       "3    63240196  199.499374  27.6                   1                    0   \n",
       "4    22442971   69.893456  26.5                   0                    0   \n",
       "\n",
       "   Appeal or Declaration  duration  \n",
       "0                      0        31  \n",
       "1                      0         1  \n",
       "2                      0         1  \n",
       "3                      0        31  \n",
       "4                      0         1  "
      ]
     },
     "execution_count": 3,
     "metadata": {},
     "output_type": "execute_result"
    }
   ],
   "source": [
    "#import data\n",
    "url=\"https://github.com/Themaoyc/MDA/blob/main/Data/deaths_predict.csv?raw=true\"\n",
    "df = pd.read_csv(url)\n",
    "df.head()"
   ]
  },
  {
   "cell_type": "markdown",
   "id": "395386ce",
   "metadata": {},
   "source": [
    "## Data Exporation "
   ]
  },
  {
   "cell_type": "code",
   "execution_count": 4,
   "id": "fab7e7dc",
   "metadata": {},
   "outputs": [
    {
     "name": "stdout",
     "output_type": "stream",
     "text": [
      "<class 'pandas.core.frame.DataFrame'>\n",
      "RangeIndex: 109 entries, 0 to 108\n",
      "Data columns (total 13 columns):\n",
      " #   Column                 Non-Null Count  Dtype  \n",
      "---  ------                 --------------  -----  \n",
      " 0   Year                   109 non-null    int64  \n",
      " 1   Country                109 non-null    object \n",
      " 2   ISO                    109 non-null    object \n",
      " 3   Total Deaths           109 non-null    int64  \n",
      " 4   CPI                    109 non-null    float64\n",
      " 5   GDP(million dollars)   109 non-null    float64\n",
      " 6   Population             109 non-null    int64  \n",
      " 7   healthexp              109 non-null    float64\n",
      " 8   tmax                   109 non-null    float64\n",
      " 9   Associated Drought     109 non-null    int64  \n",
      " 10  Associated Wildfire    109 non-null    int64  \n",
      " 11  Appeal or Declaration  109 non-null    int64  \n",
      " 12  duration               109 non-null    int64  \n",
      "dtypes: float64(4), int64(7), object(2)\n",
      "memory usage: 11.2+ KB\n"
     ]
    }
   ],
   "source": [
    "df.info()"
   ]
  },
  {
   "cell_type": "code",
   "execution_count": 5,
   "id": "6f5f5d22",
   "metadata": {
    "scrolled": false
   },
   "outputs": [
    {
     "data": {
      "text/html": [
       "<div>\n",
       "<style scoped>\n",
       "    .dataframe tbody tr th:only-of-type {\n",
       "        vertical-align: middle;\n",
       "    }\n",
       "\n",
       "    .dataframe tbody tr th {\n",
       "        vertical-align: top;\n",
       "    }\n",
       "\n",
       "    .dataframe thead th {\n",
       "        text-align: right;\n",
       "    }\n",
       "</style>\n",
       "<table border=\"1\" class=\"dataframe\">\n",
       "  <thead>\n",
       "    <tr style=\"text-align: right;\">\n",
       "      <th></th>\n",
       "      <th>Year</th>\n",
       "      <th>Total Deaths</th>\n",
       "      <th>CPI</th>\n",
       "      <th>GDP(million dollars)</th>\n",
       "      <th>Population</th>\n",
       "      <th>healthexp</th>\n",
       "      <th>tmax</th>\n",
       "      <th>Associated Drought</th>\n",
       "      <th>Associated Wildfire</th>\n",
       "      <th>Appeal or Declaration</th>\n",
       "      <th>duration</th>\n",
       "    </tr>\n",
       "  </thead>\n",
       "  <tbody>\n",
       "    <tr>\n",
       "      <th>count</th>\n",
       "      <td>109.000000</td>\n",
       "      <td>109.000000</td>\n",
       "      <td>109.000000</td>\n",
       "      <td>1.090000e+02</td>\n",
       "      <td>1.090000e+02</td>\n",
       "      <td>109.000000</td>\n",
       "      <td>109.000000</td>\n",
       "      <td>109.000000</td>\n",
       "      <td>109.000000</td>\n",
       "      <td>109.000000</td>\n",
       "      <td>109.000000</td>\n",
       "    </tr>\n",
       "    <tr>\n",
       "      <th>mean</th>\n",
       "      <td>2009.385321</td>\n",
       "      <td>1350.532110</td>\n",
       "      <td>79.125043</td>\n",
       "      <td>8.817692e+07</td>\n",
       "      <td>2.345091e+08</td>\n",
       "      <td>2502.721023</td>\n",
       "      <td>28.881529</td>\n",
       "      <td>0.110092</td>\n",
       "      <td>0.055046</td>\n",
       "      <td>0.027523</td>\n",
       "      <td>19.477064</td>\n",
       "    </tr>\n",
       "    <tr>\n",
       "      <th>std</th>\n",
       "      <td>6.174782</td>\n",
       "      <td>6117.980654</td>\n",
       "      <td>10.015751</td>\n",
       "      <td>1.815401e+08</td>\n",
       "      <td>4.105371e+08</td>\n",
       "      <td>2159.701873</td>\n",
       "      <td>5.027452</td>\n",
       "      <td>0.314450</td>\n",
       "      <td>0.229123</td>\n",
       "      <td>0.164357</td>\n",
       "      <td>41.493774</td>\n",
       "    </tr>\n",
       "    <tr>\n",
       "      <th>min</th>\n",
       "      <td>2000.000000</td>\n",
       "      <td>1.000000</td>\n",
       "      <td>63.549547</td>\n",
       "      <td>1.059498e+04</td>\n",
       "      <td>4.516300e+05</td>\n",
       "      <td>10.275986</td>\n",
       "      <td>8.100000</td>\n",
       "      <td>0.000000</td>\n",
       "      <td>0.000000</td>\n",
       "      <td>0.000000</td>\n",
       "      <td>-9.000000</td>\n",
       "    </tr>\n",
       "    <tr>\n",
       "      <th>25%</th>\n",
       "      <td>2004.000000</td>\n",
       "      <td>14.000000</td>\n",
       "      <td>69.706442</td>\n",
       "      <td>4.782389e+05</td>\n",
       "      <td>1.622530e+07</td>\n",
       "      <td>199.499374</td>\n",
       "      <td>26.400000</td>\n",
       "      <td>0.000000</td>\n",
       "      <td>0.000000</td>\n",
       "      <td>0.000000</td>\n",
       "      <td>1.000000</td>\n",
       "    </tr>\n",
       "    <tr>\n",
       "      <th>50%</th>\n",
       "      <td>2007.000000</td>\n",
       "      <td>56.000000</td>\n",
       "      <td>76.518679</td>\n",
       "      <td>2.255283e+06</td>\n",
       "      <td>6.412827e+07</td>\n",
       "      <td>2740.269287</td>\n",
       "      <td>29.100000</td>\n",
       "      <td>0.000000</td>\n",
       "      <td>0.000000</td>\n",
       "      <td>0.000000</td>\n",
       "      <td>7.000000</td>\n",
       "    </tr>\n",
       "    <tr>\n",
       "      <th>75%</th>\n",
       "      <td>2015.000000</td>\n",
       "      <td>338.000000</td>\n",
       "      <td>87.469932</td>\n",
       "      <td>3.495820e+07</td>\n",
       "      <td>1.428495e+08</td>\n",
       "      <td>4291.489746</td>\n",
       "      <td>29.235238</td>\n",
       "      <td>0.000000</td>\n",
       "      <td>0.000000</td>\n",
       "      <td>0.000000</td>\n",
       "      <td>31.000000</td>\n",
       "    </tr>\n",
       "    <tr>\n",
       "      <th>max</th>\n",
       "      <td>2019.000000</td>\n",
       "      <td>55736.000000</td>\n",
       "      <td>94.349092</td>\n",
       "      <td>5.584912e+08</td>\n",
       "      <td>1.366418e+09</td>\n",
       "      <td>8342.580078</td>\n",
       "      <td>41.800000</td>\n",
       "      <td>1.000000</td>\n",
       "      <td>1.000000</td>\n",
       "      <td>1.000000</td>\n",
       "      <td>377.000000</td>\n",
       "    </tr>\n",
       "  </tbody>\n",
       "</table>\n",
       "</div>"
      ],
      "text/plain": [
       "              Year  Total Deaths         CPI  GDP(million dollars)  \\\n",
       "count   109.000000    109.000000  109.000000          1.090000e+02   \n",
       "mean   2009.385321   1350.532110   79.125043          8.817692e+07   \n",
       "std       6.174782   6117.980654   10.015751          1.815401e+08   \n",
       "min    2000.000000      1.000000   63.549547          1.059498e+04   \n",
       "25%    2004.000000     14.000000   69.706442          4.782389e+05   \n",
       "50%    2007.000000     56.000000   76.518679          2.255283e+06   \n",
       "75%    2015.000000    338.000000   87.469932          3.495820e+07   \n",
       "max    2019.000000  55736.000000   94.349092          5.584912e+08   \n",
       "\n",
       "         Population    healthexp        tmax  Associated Drought  \\\n",
       "count  1.090000e+02   109.000000  109.000000          109.000000   \n",
       "mean   2.345091e+08  2502.721023   28.881529            0.110092   \n",
       "std    4.105371e+08  2159.701873    5.027452            0.314450   \n",
       "min    4.516300e+05    10.275986    8.100000            0.000000   \n",
       "25%    1.622530e+07   199.499374   26.400000            0.000000   \n",
       "50%    6.412827e+07  2740.269287   29.100000            0.000000   \n",
       "75%    1.428495e+08  4291.489746   29.235238            0.000000   \n",
       "max    1.366418e+09  8342.580078   41.800000            1.000000   \n",
       "\n",
       "       Associated Wildfire  Appeal or Declaration    duration  \n",
       "count           109.000000             109.000000  109.000000  \n",
       "mean              0.055046               0.027523   19.477064  \n",
       "std               0.229123               0.164357   41.493774  \n",
       "min               0.000000               0.000000   -9.000000  \n",
       "25%               0.000000               0.000000    1.000000  \n",
       "50%               0.000000               0.000000    7.000000  \n",
       "75%               0.000000               0.000000   31.000000  \n",
       "max               1.000000               1.000000  377.000000  "
      ]
     },
     "execution_count": 5,
     "metadata": {},
     "output_type": "execute_result"
    }
   ],
   "source": [
    "df.describe()"
   ]
  },
  {
   "cell_type": "code",
   "execution_count": 6,
   "id": "9b20508d",
   "metadata": {},
   "outputs": [
    {
     "data": {
      "text/plain": [
       "<AxesSubplot:>"
      ]
     },
     "execution_count": 6,
     "metadata": {},
     "output_type": "execute_result"
    },
    {
     "data": {
      "image/png": "[encoded data removed]",
      "text/plain": [
       "<Figure size 648x504 with 2 Axes>"
      ]
     },
     "metadata": {},
     "output_type": "display_data"
    }
   ],
   "source": [
    "sns.set(rc = {'figure.figsize':(9,7)})\n",
    "sns.heatmap(df[['Year','tmax','duration','CPI','GDP(million dollars)','Population','healthexp','Associated Drought',\n",
    "                   'Associated Wildfire','Appeal or Declaration','Total Deaths']].corr(),cmap='RdYlGn',annot=True)"
   ]
  },
  {
   "cell_type": "markdown",
   "id": "199f2f0a",
   "metadata": {},
   "source": [
    "The correlation of Year and CPI is 1, so we drop the column CPI."
   ]
  },
  {
   "cell_type": "code",
   "execution_count": 7,
   "id": "05fefcec",
   "metadata": {},
   "outputs": [],
   "source": [
    "df.drop(['CPI'], axis=1,inplace=True)"
   ]
  },
  {
   "cell_type": "code",
   "execution_count": 8,
   "id": "a8000144",
   "metadata": {
    "scrolled": true
   },
   "outputs": [
    {
     "data": {
      "text/html": [
       "<div>\n",
       "<style scoped>\n",
       "    .dataframe tbody tr th:only-of-type {\n",
       "        vertical-align: middle;\n",
       "    }\n",
       "\n",
       "    .dataframe tbody tr th {\n",
       "        vertical-align: top;\n",
       "    }\n",
       "\n",
       "    .dataframe thead th {\n",
       "        text-align: right;\n",
       "    }\n",
       "</style>\n",
       "<table border=\"1\" class=\"dataframe\">\n",
       "  <thead>\n",
       "    <tr style=\"text-align: right;\">\n",
       "      <th></th>\n",
       "      <th>Year</th>\n",
       "      <th>GDP(million dollars)</th>\n",
       "      <th>Population</th>\n",
       "      <th>healthexp</th>\n",
       "      <th>tmax</th>\n",
       "      <th>Associated Drought</th>\n",
       "      <th>Associated Wildfire</th>\n",
       "      <th>Appeal or Declaration</th>\n",
       "      <th>duration</th>\n",
       "    </tr>\n",
       "  </thead>\n",
       "  <tbody>\n",
       "    <tr>\n",
       "      <th>0</th>\n",
       "      <td>2000</td>\n",
       "      <td>28124.88</td>\n",
       "      <td>8170172</td>\n",
       "      <td>94.497452</td>\n",
       "      <td>34.6</td>\n",
       "      <td>0</td>\n",
       "      <td>0</td>\n",
       "      <td>0</td>\n",
       "      <td>31</td>\n",
       "    </tr>\n",
       "    <tr>\n",
       "      <th>1</th>\n",
       "      <td>2000</td>\n",
       "      <td>10594.98</td>\n",
       "      <td>943288</td>\n",
       "      <td>750.516724</td>\n",
       "      <td>34.1</td>\n",
       "      <td>0</td>\n",
       "      <td>0</td>\n",
       "      <td>0</td>\n",
       "      <td>1</td>\n",
       "    </tr>\n",
       "    <tr>\n",
       "      <th>2</th>\n",
       "      <td>2000</td>\n",
       "      <td>141247.28</td>\n",
       "      <td>10805808</td>\n",
       "      <td>885.410400</td>\n",
       "      <td>33.8</td>\n",
       "      <td>0</td>\n",
       "      <td>0</td>\n",
       "      <td>0</td>\n",
       "      <td>1</td>\n",
       "    </tr>\n",
       "    <tr>\n",
       "      <th>3</th>\n",
       "      <td>2000</td>\n",
       "      <td>171494.21</td>\n",
       "      <td>63240196</td>\n",
       "      <td>199.499374</td>\n",
       "      <td>27.6</td>\n",
       "      <td>1</td>\n",
       "      <td>0</td>\n",
       "      <td>0</td>\n",
       "      <td>31</td>\n",
       "    </tr>\n",
       "    <tr>\n",
       "      <th>4</th>\n",
       "      <td>2000</td>\n",
       "      <td>80873.10</td>\n",
       "      <td>22442971</td>\n",
       "      <td>69.893456</td>\n",
       "      <td>26.5</td>\n",
       "      <td>0</td>\n",
       "      <td>0</td>\n",
       "      <td>0</td>\n",
       "      <td>1</td>\n",
       "    </tr>\n",
       "  </tbody>\n",
       "</table>\n",
       "</div>"
      ],
      "text/plain": [
       "   Year  GDP(million dollars)  Population   healthexp  tmax  \\\n",
       "0  2000              28124.88     8170172   94.497452  34.6   \n",
       "1  2000              10594.98      943288  750.516724  34.1   \n",
       "2  2000             141247.28    10805808  885.410400  33.8   \n",
       "3  2000             171494.21    63240196  199.499374  27.6   \n",
       "4  2000              80873.10    22442971   69.893456  26.5   \n",
       "\n",
       "   Associated Drought  Associated Wildfire  Appeal or Declaration  duration  \n",
       "0                   0                    0                      0        31  \n",
       "1                   0                    0                      0         1  \n",
       "2                   0                    0                      0         1  \n",
       "3                   1                    0                      0        31  \n",
       "4                   0                    0                      0         1  "
      ]
     },
     "execution_count": 8,
     "metadata": {},
     "output_type": "execute_result"
    }
   ],
   "source": [
    "x = df[['Year','GDP(million dollars)','Population','healthexp','tmax','Associated Drought','Associated Wildfire',\n",
    "        'Appeal or Declaration','duration']]\n",
    "y = df[['Total Deaths']]\n",
    "x.head()"
   ]
  },
  {
   "cell_type": "markdown",
   "id": "9240878b",
   "metadata": {},
   "source": [
    "## Change the scale of several variables"
   ]
  },
  {
   "cell_type": "code",
   "execution_count": 9,
   "id": "5b34ff62",
   "metadata": {
    "scrolled": false
   },
   "outputs": [
    {
     "data": {
      "text/html": [
       "<div>\n",
       "<style scoped>\n",
       "    .dataframe tbody tr th:only-of-type {\n",
       "        vertical-align: middle;\n",
       "    }\n",
       "\n",
       "    .dataframe tbody tr th {\n",
       "        vertical-align: top;\n",
       "    }\n",
       "\n",
       "    .dataframe thead th {\n",
       "        text-align: right;\n",
       "    }\n",
       "</style>\n",
       "<table border=\"1\" class=\"dataframe\">\n",
       "  <thead>\n",
       "    <tr style=\"text-align: right;\">\n",
       "      <th></th>\n",
       "      <th>tmax</th>\n",
       "      <th>Associated Drought</th>\n",
       "      <th>Associated Wildfire</th>\n",
       "      <th>Appeal or Declaration</th>\n",
       "      <th>duration</th>\n",
       "      <th>Yearnew</th>\n",
       "      <th>GDP(e+12 dollars)</th>\n",
       "      <th>Population(e+07)</th>\n",
       "      <th>healthexp(e+07 dollars)</th>\n",
       "    </tr>\n",
       "  </thead>\n",
       "  <tbody>\n",
       "    <tr>\n",
       "      <th>0</th>\n",
       "      <td>34.6</td>\n",
       "      <td>0</td>\n",
       "      <td>0</td>\n",
       "      <td>0</td>\n",
       "      <td>31</td>\n",
       "      <td>1</td>\n",
       "      <td>0.028125</td>\n",
       "      <td>0.817017</td>\n",
       "      <td>9.449745</td>\n",
       "    </tr>\n",
       "    <tr>\n",
       "      <th>1</th>\n",
       "      <td>34.1</td>\n",
       "      <td>0</td>\n",
       "      <td>0</td>\n",
       "      <td>0</td>\n",
       "      <td>1</td>\n",
       "      <td>1</td>\n",
       "      <td>0.010595</td>\n",
       "      <td>0.094329</td>\n",
       "      <td>75.051672</td>\n",
       "    </tr>\n",
       "    <tr>\n",
       "      <th>2</th>\n",
       "      <td>33.8</td>\n",
       "      <td>0</td>\n",
       "      <td>0</td>\n",
       "      <td>0</td>\n",
       "      <td>1</td>\n",
       "      <td>1</td>\n",
       "      <td>0.141247</td>\n",
       "      <td>1.080581</td>\n",
       "      <td>88.541040</td>\n",
       "    </tr>\n",
       "    <tr>\n",
       "      <th>3</th>\n",
       "      <td>27.6</td>\n",
       "      <td>1</td>\n",
       "      <td>0</td>\n",
       "      <td>0</td>\n",
       "      <td>31</td>\n",
       "      <td>1</td>\n",
       "      <td>0.171494</td>\n",
       "      <td>6.324020</td>\n",
       "      <td>19.949937</td>\n",
       "    </tr>\n",
       "    <tr>\n",
       "      <th>4</th>\n",
       "      <td>26.5</td>\n",
       "      <td>0</td>\n",
       "      <td>0</td>\n",
       "      <td>0</td>\n",
       "      <td>1</td>\n",
       "      <td>1</td>\n",
       "      <td>0.080873</td>\n",
       "      <td>2.244297</td>\n",
       "      <td>6.989346</td>\n",
       "    </tr>\n",
       "  </tbody>\n",
       "</table>\n",
       "</div>"
      ],
      "text/plain": [
       "   tmax  Associated Drought  Associated Wildfire  Appeal or Declaration  \\\n",
       "0  34.6                   0                    0                      0   \n",
       "1  34.1                   0                    0                      0   \n",
       "2  33.8                   0                    0                      0   \n",
       "3  27.6                   1                    0                      0   \n",
       "4  26.5                   0                    0                      0   \n",
       "\n",
       "   duration  Yearnew  GDP(e+12 dollars)  Population(e+07)  \\\n",
       "0        31        1           0.028125          0.817017   \n",
       "1         1        1           0.010595          0.094329   \n",
       "2         1        1           0.141247          1.080581   \n",
       "3        31        1           0.171494          6.324020   \n",
       "4         1        1           0.080873          2.244297   \n",
       "\n",
       "   healthexp(e+07 dollars)  \n",
       "0                 9.449745  \n",
       "1                75.051672  \n",
       "2                88.541040  \n",
       "3                19.949937  \n",
       "4                 6.989346  "
      ]
     },
     "execution_count": 9,
     "metadata": {},
     "output_type": "execute_result"
    }
   ],
   "source": [
    "x['Yearnew']=x['Year']-1999\n",
    "x['GDP(e+12 dollars)']=x['GDP(million dollars)']/1000000\n",
    "x['Population(e+07)']=x['Population']/10000000\n",
    "x['healthexp(e+07 dollars)']=x['healthexp']/10\n",
    "x.drop(['Year','GDP(million dollars)','Population','healthexp'],axis=1,inplace=True)\n",
    "x.head()"
   ]
  },
  {
   "cell_type": "markdown",
   "id": "24fec309",
   "metadata": {},
   "source": [
    "## Split test and train dataset"
   ]
  },
  {
   "cell_type": "code",
   "execution_count": 10,
   "id": "61583fce",
   "metadata": {},
   "outputs": [
    {
     "name": "stdout",
     "output_type": "stream",
     "text": [
      "(87, 9)\n",
      "(87, 1)\n",
      "(22, 9)\n",
      "(22, 1)\n"
     ]
    }
   ],
   "source": [
    "x_train, x_test, y_train, y_test = train_test_split(x, y, random_state=888,test_size=0.2, shuffle=True)\n",
    "print(x_train.shape)\n",
    "print(y_train.shape)\n",
    "print(x_test.shape)\n",
    "print(y_test.shape)"
   ]
  },
  {
   "cell_type": "markdown",
   "id": "5c13f251",
   "metadata": {},
   "source": [
    "## Poisson regression \n",
    "Poisson regression is used to predict a dependent variable that consists of \"count data\" given one or more independent variables. Here we can regard the total deaths as the count of deaths."
   ]
  },
  {
   "cell_type": "code",
   "execution_count": 11,
   "id": "a167ac00",
   "metadata": {
    "scrolled": true
   },
   "outputs": [
    {
     "name": "stdout",
     "output_type": "stream",
     "text": [
      "                 Generalized Linear Model Regression Results                  \n",
      "==============================================================================\n",
      "Dep. Variable:           Total Deaths   No. Observations:                   87\n",
      "Model:                            GLM   Df Residuals:                       78\n",
      "Model Family:                 Poisson   Df Model:                            8\n",
      "Link Function:                    Log   Scale:                          1.0000\n",
      "Method:                          IRLS   Log-Likelihood:            -4.0070e+05\n",
      "Date:                Mon, 08 Aug 2022   Deviance:                   8.0087e+05\n",
      "Time:                        21:58:58   Pearson chi2:                 3.80e+13\n",
      "No. Iterations:                    21   Pseudo R-squ. (CS):               -inf\n",
      "Covariance Type:            nonrobust                                         \n",
      "===========================================================================================\n",
      "                              coef    std err          z      P>|z|      [0.025      0.975]\n",
      "-------------------------------------------------------------------------------------------\n",
      "tmax                       -0.7339      0.002   -339.647      0.000      -0.738      -0.730\n",
      "Associated Drought         21.0468      0.045    469.298      0.000      20.959      21.135\n",
      "Associated Wildfire        -7.9222      0.063   -125.403      0.000      -8.046      -7.798\n",
      "Appeal or Declaration       9.5859      0.041    234.452      0.000       9.506       9.666\n",
      "duration                    0.0079   4.81e-05    163.931      0.000       0.008       0.008\n",
      "Yearnew                     1.0628      0.002    434.064      0.000       1.058       1.068\n",
      "GDP(e+12 dollars)           0.0074   4.45e-05    167.017      0.000       0.007       0.008\n",
      "Population(e+07)            0.0689      0.000    423.544      0.000       0.069       0.069\n",
      "healthexp(e+07 dollars)     0.0044   2.27e-05    194.447      0.000       0.004       0.004\n",
      "===========================================================================================\n"
     ]
    }
   ],
   "source": [
    "pmodel = sm.GLM(y_train,x_train,family=sm.families.Poisson())\n",
    "results = pmodel.fit()\n",
    "print(results.summary())"
   ]
  },
  {
   "cell_type": "markdown",
   "id": "a25e26b3",
   "metadata": {},
   "source": [
    "Note that the Log-Likelihood here is far smaller than 0, which means the Likelihood is very closed to 0. And this is why the Pseudo R-squ. (CS)=-inf."
   ]
  },
  {
   "cell_type": "markdown",
   "id": "b22384cb",
   "metadata": {},
   "source": [
    "## Diagnosis "
   ]
  },
  {
   "cell_type": "code",
   "execution_count": 12,
   "id": "cff4c5dd",
   "metadata": {},
   "outputs": [
    {
     "data": {
      "image/png": "[encoded data removed]",
      "text/plain": [
       "<Figure size 648x504 with 1 Axes>"
      ]
     },
     "metadata": {},
     "output_type": "display_data"
    }
   ],
   "source": [
    "predict_1 = results.predict()\n",
    "plt.scatter(predict_1, y_train)\n",
    "plt.axline([0,0],slope=1,c=\".2\", ls=\"--\")\n",
    "plt.title('Model Fit Plot')\n",
    "plt.xlabel('y_predicted')\n",
    "plt.ylabel('y_true')\n",
    "plt.show()"
   ]
  },
  {
   "cell_type": "code",
   "execution_count": 15,
   "id": "6cd8092f",
   "metadata": {
    "scrolled": false
   },
   "outputs": [
    {
     "data": {
      "image/png": "[encoded data removed]",
      "text/plain": [
       "<Figure size 648x504 with 1 Axes>"
      ]
     },
     "metadata": {},
     "output_type": "display_data"
    }
   ],
   "source": [
    "fig, ax = plt.subplots()\n",
    "resid = results.resid_deviance.copy()\n",
    "resid_std = stats.zscore(resid)\n",
    "ax.hist(resid_std, bins=25)\n",
    "ax.set_title('Histogram of standardized deviance residuals');"
   ]
  },
  {
   "cell_type": "markdown",
   "id": "ebe55f39",
   "metadata": {},
   "source": [
    "Clearly, we can see some extreme outliers"
   ]
  },
  {
   "cell_type": "code",
   "execution_count": 16,
   "id": "586ce47f",
   "metadata": {
    "scrolled": true
   },
   "outputs": [
    {
     "data": {
      "text/html": [
       "<div>\n",
       "<style scoped>\n",
       "    .dataframe tbody tr th:only-of-type {\n",
       "        vertical-align: middle;\n",
       "    }\n",
       "\n",
       "    .dataframe tbody tr th {\n",
       "        vertical-align: top;\n",
       "    }\n",
       "\n",
       "    .dataframe thead th {\n",
       "        text-align: right;\n",
       "    }\n",
       "</style>\n",
       "<table border=\"1\" class=\"dataframe\">\n",
       "  <thead>\n",
       "    <tr style=\"text-align: right;\">\n",
       "      <th></th>\n",
       "      <th>ABS SDR</th>\n",
       "    </tr>\n",
       "  </thead>\n",
       "  <tbody>\n",
       "    <tr>\n",
       "      <th>64</th>\n",
       "      <td>5.060187</td>\n",
       "    </tr>\n",
       "    <tr>\n",
       "      <th>28</th>\n",
       "      <td>3.431297</td>\n",
       "    </tr>\n",
       "    <tr>\n",
       "      <th>104</th>\n",
       "      <td>2.144440</td>\n",
       "    </tr>\n",
       "    <tr>\n",
       "      <th>35</th>\n",
       "      <td>2.062462</td>\n",
       "    </tr>\n",
       "    <tr>\n",
       "      <th>16</th>\n",
       "      <td>2.118781</td>\n",
       "    </tr>\n",
       "    <tr>\n",
       "      <th>17</th>\n",
       "      <td>2.078739</td>\n",
       "    </tr>\n",
       "  </tbody>\n",
       "</table>\n",
       "</div>"
      ],
      "text/plain": [
       "      ABS SDR\n",
       "64   5.060187\n",
       "28   3.431297\n",
       "104  2.144440\n",
       "35   2.062462\n",
       "16   2.118781\n",
       "17   2.078739"
      ]
     },
     "execution_count": 16,
     "metadata": {},
     "output_type": "execute_result"
    }
   ],
   "source": [
    "a=pd.DataFrame(abs(resid_std),columns=['ABS SDR'])\n",
    "outliers=a.loc[a['ABS SDR']>=2]\n",
    "outliers"
   ]
  },
  {
   "cell_type": "code",
   "execution_count": 17,
   "id": "f5ed54bf",
   "metadata": {},
   "outputs": [
    {
     "name": "stdout",
     "output_type": "stream",
     "text": [
      "(81, 9)\n",
      "(81, 1)\n"
     ]
    }
   ],
   "source": [
    "x_train_new=x_train.drop(index=[16,17,28,35,64,104])\n",
    "y_train_new=y_train.drop(index=[16,17,28,35,64,104])\n",
    "print(x_train_new.shape)\n",
    "print(y_train_new.shape)"
   ]
  },
  {
   "cell_type": "code",
   "execution_count": 18,
   "id": "49de1659",
   "metadata": {
    "scrolled": true
   },
   "outputs": [
    {
     "name": "stdout",
     "output_type": "stream",
     "text": [
      "                 Generalized Linear Model Regression Results                  \n",
      "==============================================================================\n",
      "Dep. Variable:           Total Deaths   No. Observations:                   81\n",
      "Model:                            GLM   Df Residuals:                       72\n",
      "Model Family:                 Poisson   Df Model:                            8\n",
      "Link Function:                    Log   Scale:                          1.0000\n",
      "Method:                          IRLS   Log-Likelihood:                -30600.\n",
      "Date:                Mon, 08 Aug 2022   Deviance:                       60736.\n",
      "Time:                        21:59:35   Pearson chi2:                 4.80e+05\n",
      "No. Iterations:                     8   Pseudo R-squ. (CS):              1.000\n",
      "Covariance Type:            nonrobust                                         \n",
      "===========================================================================================\n",
      "                              coef    std err          z      P>|z|      [0.025      0.975]\n",
      "-------------------------------------------------------------------------------------------\n",
      "tmax                        0.0389      0.001     30.291      0.000       0.036       0.041\n",
      "Associated Drought          5.6280      0.023    242.949      0.000       5.583       5.673\n",
      "Associated Wildfire        -3.2760      0.058    -56.282      0.000      -3.390      -3.162\n",
      "Appeal or Declaration       1.1279      0.034     33.277      0.000       1.061       1.194\n",
      "duration                   -0.0242      0.000    -84.518      0.000      -0.025      -0.024\n",
      "Yearnew                     0.1623      0.002     99.370      0.000       0.159       0.166\n",
      "GDP(e+12 dollars)          -0.0039      0.000    -33.122      0.000      -0.004      -0.004\n",
      "Population(e+07)            0.0240      0.000     89.036      0.000       0.023       0.025\n",
      "healthexp(e+07 dollars)     0.0042   3.22e-05    129.926      0.000       0.004       0.004\n",
      "===========================================================================================\n"
     ]
    }
   ],
   "source": [
    "#refit the model\n",
    "pmodel2 = sm.GLM(y_train_new,x_train_new,family=sm.families.Poisson())\n",
    "results2 = pmodel2.fit()\n",
    "print(results2.summary())"
   ]
  },
  {
   "cell_type": "markdown",
   "id": "d59141c2",
   "metadata": {},
   "source": [
    "We can see that the coefficient has changed a lot. The Log-Likelihood is much larger, and the Pseudo R-squ. (CS) now is quite close to 1."
   ]
  },
  {
   "cell_type": "markdown",
   "id": "3f467b59",
   "metadata": {},
   "source": [
    "##  Overdispersion\n",
    "In a poisson model we assume that the mean is equal to variance, and this is often not the case in practice."
   ]
  },
  {
   "cell_type": "code",
   "execution_count": 19,
   "id": "386a2e9c",
   "metadata": {},
   "outputs": [
    {
     "name": "stdout",
     "output_type": "stream",
     "text": [
      "mean: Total Deaths    320.222222\n",
      "dtype: float64\n",
      "variance: Total Deaths    1.244078e+06\n",
      "dtype: float64\n"
     ]
    }
   ],
   "source": [
    "print('mean:',np.mean(y_train_new))\n",
    "print('variance:',np.var(y_train_new))"
   ]
  },
  {
   "cell_type": "markdown",
   "id": "dfeadeb1",
   "metadata": {},
   "source": [
    "Here variance is much larger than the mean. We choose a negative binomial model to fix it."
   ]
  },
  {
   "cell_type": "markdown",
   "id": "1728259b",
   "metadata": {},
   "source": [
    "##  Negative binomial model"
   ]
  },
  {
   "cell_type": "code",
   "execution_count": 20,
   "id": "05e582b2",
   "metadata": {},
   "outputs": [
    {
     "name": "stdout",
     "output_type": "stream",
     "text": [
      "                 Generalized Linear Model Regression Results                  \n",
      "==============================================================================\n",
      "Dep. Variable:           Total Deaths   No. Observations:                   81\n",
      "Model:                            GLM   Df Residuals:                       72\n",
      "Model Family:        NegativeBinomial   Df Model:                            8\n",
      "Link Function:                    Log   Scale:                          1.0000\n",
      "Method:                          IRLS   Log-Likelihood:                -521.32\n",
      "Date:                Mon, 08 Aug 2022   Deviance:                       247.25\n",
      "Time:                        21:59:40   Pearson chi2:                     355.\n",
      "No. Iterations:                    42   Pseudo R-squ. (CS):             0.4878\n",
      "Covariance Type:            nonrobust                                         \n",
      "===========================================================================================\n",
      "                              coef    std err          z      P>|z|      [0.025      0.975]\n",
      "-------------------------------------------------------------------------------------------\n",
      "tmax                        0.1059      0.009     11.477      0.000       0.088       0.124\n",
      "Associated Drought          3.4529      0.490      7.047      0.000       2.493       4.413\n",
      "Associated Wildfire        -2.7422      0.590     -4.651      0.000      -3.898      -1.587\n",
      "Appeal or Declaration       1.2139      0.617      1.969      0.049       0.005       2.422\n",
      "duration                   -0.0043      0.003     -1.663      0.096      -0.009       0.001\n",
      "Yearnew                     0.0999      0.019      5.304      0.000       0.063       0.137\n",
      "GDP(e+12 dollars)          -0.0038      0.001     -5.396      0.000      -0.005      -0.002\n",
      "Population(e+07)            0.0115      0.003      3.743      0.000       0.005       0.018\n",
      "healthexp(e+07 dollars)     0.0041      0.001      7.770      0.000       0.003       0.005\n",
      "===========================================================================================\n"
     ]
    }
   ],
   "source": [
    "pmodel3 = sm.GLM(y_train_new,x_train_new,family=sm.families.NegativeBinomial())\n",
    "results3 = pmodel3.fit()\n",
    "print(results3.summary())"
   ]
  },
  {
   "cell_type": "code",
   "execution_count": 21,
   "id": "8a495bdd",
   "metadata": {},
   "outputs": [
    {
     "data": {
      "image/png": "[encoded data removed]",
      "text/plain": [
       "<Figure size 648x504 with 1 Axes>"
      ]
     },
     "metadata": {},
     "output_type": "display_data"
    }
   ],
   "source": [
    "predict_3 = results3.predict()\n",
    "plt.scatter(predict_3, y_train_new)\n",
    "plt.axline([0,0],slope=1,c=\".2\", ls=\"--\")\n",
    "plt.title('Model Fit Plot')\n",
    "plt.xlabel('y_predicted')\n",
    "plt.ylabel('y_true')\n",
    "plt.show()"
   ]
  },
  {
   "cell_type": "code",
   "execution_count": 22,
   "id": "943b9831",
   "metadata": {
    "scrolled": false
   },
   "outputs": [
    {
     "data": {
      "image/png": "[encoded data removed]",
      "text/plain": [
       "<Figure size 648x504 with 1 Axes>"
      ]
     },
     "metadata": {},
     "output_type": "display_data"
    }
   ],
   "source": [
    "fig, ax = plt.subplots()\n",
    "resid3 = results3.resid_deviance.copy()\n",
    "resid_std3 = stats.zscore(resid3)\n",
    "ax.hist(resid_std3, bins=25)\n",
    "ax.set_title('Histogram of standardized deviance residuals');"
   ]
  },
  {
   "cell_type": "markdown",
   "id": "4604d5e3",
   "metadata": {},
   "source": [
    "Negative binomia model has a much better performance than the poisson model: the Log-Likelihood is even closer to zero, and the residual plot also has a better shape."
   ]
  },
  {
   "cell_type": "markdown",
   "id": "336f3e4c",
   "metadata": {},
   "source": [
    "## Validate with the test group"
   ]
  },
  {
   "cell_type": "code",
   "execution_count": 23,
   "id": "07138216",
   "metadata": {},
   "outputs": [
    {
     "data": {
      "image/png": "[encoded data removed]",
      "text/plain": [
       "<Figure size 1008x432 with 2 Axes>"
      ]
     },
     "metadata": {},
     "output_type": "display_data"
    }
   ],
   "source": [
    "fig = plt.figure(figsize=(14,6))\n",
    "plt.subplot(1,2,1)\n",
    "predict_2 = results2.predict(x_test)\n",
    "plt.scatter(predict_2,y_test)\n",
    "plt.axline([0,0],slope=1,c=\".2\", ls=\"--\")\n",
    "plt.title('Piosson Model Test Group')\n",
    "plt.xlabel('y_predicted')\n",
    "plt.ylabel('y_true')\n",
    "plt.subplot(1,2,2)\n",
    "predict_3 = results3.predict(x_test)\n",
    "plt.scatter(predict_3,y_test)\n",
    "plt.axline([0,0],slope=1,c=\".2\", ls=\"--\")\n",
    "plt.title('Negative Binomia Model Test Group')\n",
    "plt.xlabel('y_predicted')\n",
    "plt.ylabel('y_true')\n",
    "plt.show()"
   ]
  },
  {
   "cell_type": "code",
   "execution_count": 24,
   "id": "7fb374f0",
   "metadata": {},
   "outputs": [
    {
     "name": "stdout",
     "output_type": "stream",
     "text": [
      "MSEPoisson: 12920244\n",
      "Negative binomial: 11419829\n"
     ]
    }
   ],
   "source": [
    "resp=y_test.values.ravel()-predict_2\n",
    "resn=y_test.values.ravel()-predict_3\n",
    "c=resp*resn\n",
    "d=resn*resn\n",
    "MSEP=np.mean(c)\n",
    "MSEN=np.mean(d)\n",
    "print('MSEPoisson:',round(MSEP))\n",
    "print('Negative binomial:',round(MSEN))"
   ]
  },
  {
   "cell_type": "markdown",
   "id": "a62fc827",
   "metadata": {},
   "source": [
    "The negative binomial model also has a smaller MSE, so we choose this model to predict heatwaves in the future. Note that this model still work bad with some extreme situations, one reason may be that the records are incorrect. But if the dataset does not make any mistakes, that suggests that we still need some more useful variables to predict the total deaths. More research should be made and more data should be collected. To fight with the heatwave, we still have a long way to go."
   ]
  },
  {
   "cell_type": "code",
   "execution_count": null,
   "id": "b7c21f76",
   "metadata": {},
   "outputs": [],
   "source": [
    "#The dataset for visualization\n",
    "#app1=pd.merge(x_train_new,y_train_new,left_index=True,right_index=True)\n",
    "#app1.to_csv('app1.csv')"
   ]
  },
  {
   "cell_type": "code",
   "execution_count": null,
   "id": "109ea348",
   "metadata": {},
   "outputs": [],
   "source": []
  }
 ],
 "metadata": {
  "kernelspec": {
   "display_name": "Python 3 (ipykernel)",
   "language": "python",
   "name": "python3"
  },
  "language_info": {
   "codemirror_mode": {
    "name": "ipython",
    "version": 3
   },
   "file_extension": ".py",
   "mimetype": "text/x-python",
   "name": "python",
   "nbconvert_exporter": "python",
   "pygments_lexer": "ipython3",
   "version": "3.9.12"
  }
 },
 "nbformat": 4,
 "nbformat_minor": 5
}
