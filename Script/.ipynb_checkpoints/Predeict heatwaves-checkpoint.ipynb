{
 "cells": [
  {
   "cell_type": "markdown",
   "id": "404f4759",
   "metadata": {},
   "source": [
    "# Predeict heatwaves"
   ]
  },
  {
   "cell_type": "code",
   "execution_count": 10,
   "id": "b595245a",
   "metadata": {},
   "outputs": [],
   "source": [
    "import pandas as pd\n",
    "import seaborn as sns"
   ]
  },
  {
   "cell_type": "code",
   "execution_count": 5,
   "id": "c8e01d86",
   "metadata": {},
   "outputs": [
    {
     "data": {
      "text/html": [
       "<div>\n",
       "<style scoped>\n",
       "    .dataframe tbody tr th:only-of-type {\n",
       "        vertical-align: middle;\n",
       "    }\n",
       "\n",
       "    .dataframe tbody tr th {\n",
       "        vertical-align: top;\n",
       "    }\n",
       "\n",
       "    .dataframe thead th {\n",
       "        text-align: right;\n",
       "    }\n",
       "</style>\n",
       "<table border=\"1\" class=\"dataframe\">\n",
       "  <thead>\n",
       "    <tr style=\"text-align: right;\">\n",
       "      <th></th>\n",
       "      <th>Country</th>\n",
       "      <th>ISO</th>\n",
       "      <th>Year</th>\n",
       "      <th>January</th>\n",
       "      <th>February</th>\n",
       "      <th>March</th>\n",
       "      <th>April</th>\n",
       "      <th>May</th>\n",
       "      <th>Heatwave</th>\n",
       "    </tr>\n",
       "  </thead>\n",
       "  <tbody>\n",
       "    <tr>\n",
       "      <th>0</th>\n",
       "      <td>Albania</td>\n",
       "      <td>ALB</td>\n",
       "      <td>2004</td>\n",
       "      <td>6.70</td>\n",
       "      <td>8.50</td>\n",
       "      <td>11.7</td>\n",
       "      <td>15.80</td>\n",
       "      <td>17.60</td>\n",
       "      <td>1</td>\n",
       "    </tr>\n",
       "    <tr>\n",
       "      <th>1</th>\n",
       "      <td>Albania</td>\n",
       "      <td>ALB</td>\n",
       "      <td>2005</td>\n",
       "      <td>6.60</td>\n",
       "      <td>6.40</td>\n",
       "      <td>10.9</td>\n",
       "      <td>14.10</td>\n",
       "      <td>20.40</td>\n",
       "      <td>0</td>\n",
       "    </tr>\n",
       "    <tr>\n",
       "      <th>2</th>\n",
       "      <td>Albania</td>\n",
       "      <td>ALB</td>\n",
       "      <td>2006</td>\n",
       "      <td>5.50</td>\n",
       "      <td>7.80</td>\n",
       "      <td>10.8</td>\n",
       "      <td>15.30</td>\n",
       "      <td>18.80</td>\n",
       "      <td>0</td>\n",
       "    </tr>\n",
       "    <tr>\n",
       "      <th>3</th>\n",
       "      <td>Albania</td>\n",
       "      <td>ALB</td>\n",
       "      <td>2007</td>\n",
       "      <td>7.06</td>\n",
       "      <td>8.32</td>\n",
       "      <td>10.9</td>\n",
       "      <td>14.52</td>\n",
       "      <td>18.76</td>\n",
       "      <td>1</td>\n",
       "    </tr>\n",
       "    <tr>\n",
       "      <th>4</th>\n",
       "      <td>Albania</td>\n",
       "      <td>ALB</td>\n",
       "      <td>2008</td>\n",
       "      <td>5.40</td>\n",
       "      <td>7.02</td>\n",
       "      <td>10.0</td>\n",
       "      <td>13.40</td>\n",
       "      <td>17.94</td>\n",
       "      <td>0</td>\n",
       "    </tr>\n",
       "  </tbody>\n",
       "</table>\n",
       "</div>"
      ],
      "text/plain": [
       "   Country  ISO  Year  January  February  March  April    May  Heatwave\n",
       "0  Albania  ALB  2004     6.70      8.50   11.7  15.80  17.60         1\n",
       "1  Albania  ALB  2005     6.60      6.40   10.9  14.10  20.40         0\n",
       "2  Albania  ALB  2006     5.50      7.80   10.8  15.30  18.80         0\n",
       "3  Albania  ALB  2007     7.06      8.32   10.9  14.52  18.76         1\n",
       "4  Albania  ALB  2008     5.40      7.02   10.0  13.40  17.94         0"
      ]
     },
     "execution_count": 5,
     "metadata": {},
     "output_type": "execute_result"
    }
   ],
   "source": [
    "#import data\n",
    "url=\"https://github.com/Themaoyc/MDA/blob/main/Data/temperaturedata_predict.csv?raw=true\"\n",
    "df = pd.read_csv(url)\n",
    "df.head()"
   ]
  },
  {
   "cell_type": "markdown",
   "id": "e9f0c593",
   "metadata": {},
   "source": [
    "## Data Processing"
   ]
  },
  {
   "cell_type": "code",
   "execution_count": 8,
   "id": "c3e3780b",
   "metadata": {},
   "outputs": [
    {
     "data": {
      "text/html": [
       "<div>\n",
       "<style scoped>\n",
       "    .dataframe tbody tr th:only-of-type {\n",
       "        vertical-align: middle;\n",
       "    }\n",
       "\n",
       "    .dataframe tbody tr th {\n",
       "        vertical-align: top;\n",
       "    }\n",
       "\n",
       "    .dataframe thead th {\n",
       "        text-align: right;\n",
       "    }\n",
       "</style>\n",
       "<table border=\"1\" class=\"dataframe\">\n",
       "  <thead>\n",
       "    <tr style=\"text-align: right;\">\n",
       "      <th></th>\n",
       "      <th>Year</th>\n",
       "      <th>January</th>\n",
       "      <th>February</th>\n",
       "      <th>March</th>\n",
       "      <th>April</th>\n",
       "      <th>May</th>\n",
       "      <th>Heatwave</th>\n",
       "    </tr>\n",
       "  </thead>\n",
       "  <tbody>\n",
       "    <tr>\n",
       "      <th>count</th>\n",
       "      <td>1279.000000</td>\n",
       "      <td>1279.000000</td>\n",
       "      <td>1279.000000</td>\n",
       "      <td>1279.000000</td>\n",
       "      <td>1279.000000</td>\n",
       "      <td>1279.000000</td>\n",
       "      <td>1279.000000</td>\n",
       "    </tr>\n",
       "    <tr>\n",
       "      <th>mean</th>\n",
       "      <td>2006.000782</td>\n",
       "      <td>3.337858</td>\n",
       "      <td>4.547357</td>\n",
       "      <td>7.816639</td>\n",
       "      <td>11.904338</td>\n",
       "      <td>16.129467</td>\n",
       "      <td>0.098514</td>\n",
       "    </tr>\n",
       "    <tr>\n",
       "      <th>std</th>\n",
       "      <td>9.167414</td>\n",
       "      <td>9.580013</td>\n",
       "      <td>9.410889</td>\n",
       "      <td>8.696419</td>\n",
       "      <td>7.726299</td>\n",
       "      <td>6.822498</td>\n",
       "      <td>0.298126</td>\n",
       "    </tr>\n",
       "    <tr>\n",
       "      <th>min</th>\n",
       "      <td>1990.000000</td>\n",
       "      <td>-28.240000</td>\n",
       "      <td>-30.580000</td>\n",
       "      <td>-26.712500</td>\n",
       "      <td>-22.550000</td>\n",
       "      <td>-10.814286</td>\n",
       "      <td>0.000000</td>\n",
       "    </tr>\n",
       "    <tr>\n",
       "      <th>25%</th>\n",
       "      <td>1998.000000</td>\n",
       "      <td>-1.650000</td>\n",
       "      <td>-0.400000</td>\n",
       "      <td>3.712500</td>\n",
       "      <td>7.945000</td>\n",
       "      <td>12.312500</td>\n",
       "      <td>0.000000</td>\n",
       "    </tr>\n",
       "    <tr>\n",
       "      <th>50%</th>\n",
       "      <td>2006.000000</td>\n",
       "      <td>3.316667</td>\n",
       "      <td>4.350000</td>\n",
       "      <td>7.066667</td>\n",
       "      <td>11.220000</td>\n",
       "      <td>15.700000</td>\n",
       "      <td>0.000000</td>\n",
       "    </tr>\n",
       "    <tr>\n",
       "      <th>75%</th>\n",
       "      <td>2014.000000</td>\n",
       "      <td>9.180000</td>\n",
       "      <td>10.558333</td>\n",
       "      <td>13.487500</td>\n",
       "      <td>15.960417</td>\n",
       "      <td>19.650000</td>\n",
       "      <td>0.000000</td>\n",
       "    </tr>\n",
       "    <tr>\n",
       "      <th>max</th>\n",
       "      <td>2021.000000</td>\n",
       "      <td>29.000000</td>\n",
       "      <td>31.000000</td>\n",
       "      <td>32.900000</td>\n",
       "      <td>34.100000</td>\n",
       "      <td>36.100000</td>\n",
       "      <td>1.000000</td>\n",
       "    </tr>\n",
       "  </tbody>\n",
       "</table>\n",
       "</div>"
      ],
      "text/plain": [
       "              Year      January     February        March        April  \\\n",
       "count  1279.000000  1279.000000  1279.000000  1279.000000  1279.000000   \n",
       "mean   2006.000782     3.337858     4.547357     7.816639    11.904338   \n",
       "std       9.167414     9.580013     9.410889     8.696419     7.726299   \n",
       "min    1990.000000   -28.240000   -30.580000   -26.712500   -22.550000   \n",
       "25%    1998.000000    -1.650000    -0.400000     3.712500     7.945000   \n",
       "50%    2006.000000     3.316667     4.350000     7.066667    11.220000   \n",
       "75%    2014.000000     9.180000    10.558333    13.487500    15.960417   \n",
       "max    2021.000000    29.000000    31.000000    32.900000    34.100000   \n",
       "\n",
       "               May     Heatwave  \n",
       "count  1279.000000  1279.000000  \n",
       "mean     16.129467     0.098514  \n",
       "std       6.822498     0.298126  \n",
       "min     -10.814286     0.000000  \n",
       "25%      12.312500     0.000000  \n",
       "50%      15.700000     0.000000  \n",
       "75%      19.650000     0.000000  \n",
       "max      36.100000     1.000000  "
      ]
     },
     "execution_count": 8,
     "metadata": {},
     "output_type": "execute_result"
    }
   ],
   "source": [
    "df.describe()"
   ]
  },
  {
   "cell_type": "code",
   "execution_count": 9,
   "id": "5d1ee669",
   "metadata": {},
   "outputs": [
    {
     "name": "stdout",
     "output_type": "stream",
     "text": [
      "<class 'pandas.core.frame.DataFrame'>\n",
      "RangeIndex: 1279 entries, 0 to 1278\n",
      "Data columns (total 9 columns):\n",
      " #   Column    Non-Null Count  Dtype  \n",
      "---  ------    --------------  -----  \n",
      " 0   Country   1279 non-null   object \n",
      " 1   ISO       1279 non-null   object \n",
      " 2   Year      1279 non-null   int64  \n",
      " 3   January   1279 non-null   float64\n",
      " 4   February  1279 non-null   float64\n",
      " 5   March     1279 non-null   float64\n",
      " 6   April     1279 non-null   float64\n",
      " 7   May       1279 non-null   float64\n",
      " 8   Heatwave  1279 non-null   int64  \n",
      "dtypes: float64(5), int64(2), object(2)\n",
      "memory usage: 90.1+ KB\n"
     ]
    }
   ],
   "source": [
    "df.info()"
   ]
  },
  {
   "cell_type": "code",
   "execution_count": 13,
   "id": "b100b03e",
   "metadata": {},
   "outputs": [
    {
     "data": {
      "image/png": "[encoded data removed]",
      "text/plain": [
       "<Figure size 432x288 with 2 Axes>"
      ]
     },
     "metadata": {
      "needs_background": "light"
     },
     "output_type": "display_data"
    }
   ],
   "source": [
    "##heatmap\n",
    "heatmap=sns.heatmap(df[['Year', 'Country', 'January','February','March','April','May','Heatwave'\n",
    "                     ]].corr(),cmap='RdYlGn',annot=True)"
   ]
  },
  {
   "cell_type": "code",
   "execution_count": null,
   "id": "8dde9491",
   "metadata": {},
   "outputs": [],
   "source": []
  },
  {
   "cell_type": "code",
   "execution_count": null,
   "id": "23851928",
   "metadata": {},
   "outputs": [],
   "source": []
  }
 ],
 "metadata": {
  "kernelspec": {
   "display_name": "Python 3 (ipykernel)",
   "language": "python",
   "name": "python3"
  },
  "language_info": {
   "codemirror_mode": {
    "name": "ipython",
    "version": 3
   },
   "file_extension": ".py",
   "mimetype": "text/x-python",
   "name": "python",
   "nbconvert_exporter": "python",
   "pygments_lexer": "ipython3",
   "version": "3.9.12"
  }
 },
 "nbformat": 4,
 "nbformat_minor": 5
}
