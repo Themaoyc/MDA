{
 "cells": [
  {
   "cell_type": "code",
   "execution_count": 37,
   "id": "fcb37326",
   "metadata": {},
   "outputs": [],
   "source": [
    "import pandas as pd\n",
    "import praw\n",
    "from praw.models import MoreComments"
   ]
  },
  {
   "cell_type": "code",
   "execution_count": 22,
   "id": "29452836",
   "metadata": {},
   "outputs": [],
   "source": [
    "reddit_read_only = praw.Reddit(client_id=\"aqWX9vyIIEyOpIQlRc5G-Q\",         \n",
    "                               client_secret=\"eASIXwJof_ic9KhVC0A7IUTwS22yoQ\",     \n",
    "                               user_agent=\"Yicheng\")       "
   ]
  },
  {
   "cell_type": "code",
   "execution_count": 36,
   "id": "47f9608c",
   "metadata": {},
   "outputs": [],
   "source": [
    "url1 = 'https://www.reddit.com/r/worldnews/comments/w0nwi5/hundreds_die_as_heatwave_grips_europe_and/'\n",
    "url2 = 'https://www.reddit.com/r/worldnews/comments/w1xck1/heatwave_warnings_of_heat_apocalypse_in_france/'\n",
    "url3 = 'https://www.reddit.com/r/worldnews/comments/wietum/99_of_sea_turtles_are_now_born_female_due_to/'\n",
    "url4 = 'https://www.reddit.com/r/pics/comments/w2hzvt/police_officer_giving_a_buckingham_palace_guard/'\n",
    "url5 = 'https://www.reddit.com/r/Damnthatsinteresting/comments/w1z1c3/heatwave_maps_1976_vs_2022/'\n",
    "url6 = 'https://www.reddit.com/r/worldnews/comments/vft4if/unprecedented_heatwave_cooks_western_europe_with/'\n",
    "url7 = 'https://www.reddit.com/r/starterpacks/comments/w1uwgz/heatwave_in_the_uk_starter_pack/'\n",
    "url8 = 'https://www.reddit.com/r/GreenAndPleasant/comments/w1w1fr/how_to_survive_the_global_heatwave/'\n",
    "url9 = 'https://www.reddit.com/r/unitedkingdom/comments/vzkm4v/heatwave_met_office_issues_red_extreme_heat/'\n",
    "url10 = 'https://www.reddit.com/r/worldnews/comments/wgssfd/millions_of_chickens_die_in_factory_farm_sheds/'\n",
    "url11 = 'https://www.reddit.com/r/Damnthatsinteresting/comments/w8pc4q/lions_are_fed_frozen_blood_during_the_heatwave_in/'\n",
    "url12 = 'https://www.reddit.com/r/unitedkingdom/comments/w2r2l1/heatwave_latest_uk_temperature_tops_40c_for_first/'\n",
    "urllist=[url1,url2,url3,url4,url5,url6,url7,url8,url9,url10,url11,url12]\n"
   ]
  },
  {
   "cell_type": "code",
   "execution_count": 41,
   "id": "f2c46ee9",
   "metadata": {},
   "outputs": [
    {
     "data": {
      "text/html": [
       "<div>\n",
       "<style scoped>\n",
       "    .dataframe tbody tr th:only-of-type {\n",
       "        vertical-align: middle;\n",
       "    }\n",
       "\n",
       "    .dataframe tbody tr th {\n",
       "        vertical-align: top;\n",
       "    }\n",
       "\n",
       "    .dataframe thead th {\n",
       "        text-align: right;\n",
       "    }\n",
       "</style>\n",
       "<table border=\"1\" class=\"dataframe\">\n",
       "  <thead>\n",
       "    <tr style=\"text-align: right;\">\n",
       "      <th></th>\n",
       "      <th>comment</th>\n",
       "    </tr>\n",
       "  </thead>\n",
       "  <tbody>\n",
       "    <tr>\n",
       "      <th>0</th>\n",
       "      <td>It may be obvious but I'll say it again anyway...</td>\n",
       "    </tr>\n",
       "    <tr>\n",
       "      <th>1</th>\n",
       "      <td>As someone who lives near the sahara desert an...</td>\n",
       "    </tr>\n",
       "    <tr>\n",
       "      <th>2</th>\n",
       "      <td>One trick we did when it hit over 100 F in Sea...</td>\n",
       "    </tr>\n",
       "    <tr>\n",
       "      <th>3</th>\n",
       "      <td>So this is just going to be typical summer new...</td>\n",
       "    </tr>\n",
       "    <tr>\n",
       "      <th>4</th>\n",
       "      <td>Do we have more heatwaves due to global warmin...</td>\n",
       "    </tr>\n",
       "    <tr>\n",
       "      <th>...</th>\n",
       "      <td>...</td>\n",
       "    </tr>\n",
       "    <tr>\n",
       "      <th>495</th>\n",
       "      <td>I’m reading all these comments and, as someone...</td>\n",
       "    </tr>\n",
       "    <tr>\n",
       "      <th>496</th>\n",
       "      <td>Shoutout to UK Tory MP John Hayes\\n\\n&gt;says ‘co...</td>\n",
       "    </tr>\n",
       "    <tr>\n",
       "      <th>497</th>\n",
       "      <td>This sort of extreme was not supposed to start...</td>\n",
       "    </tr>\n",
       "    <tr>\n",
       "      <th>498</th>\n",
       "      <td>And fools keep pretending climate change isn’t...</td>\n",
       "    </tr>\n",
       "    <tr>\n",
       "      <th>499</th>\n",
       "      <td>With how prevalent air conditioning units are ...</td>\n",
       "    </tr>\n",
       "  </tbody>\n",
       "</table>\n",
       "<p>500 rows × 1 columns</p>\n",
       "</div>"
      ],
      "text/plain": [
       "                                               comment\n",
       "0    It may be obvious but I'll say it again anyway...\n",
       "1    As someone who lives near the sahara desert an...\n",
       "2    One trick we did when it hit over 100 F in Sea...\n",
       "3    So this is just going to be typical summer new...\n",
       "4    Do we have more heatwaves due to global warmin...\n",
       "..                                                 ...\n",
       "495  I’m reading all these comments and, as someone...\n",
       "496  Shoutout to UK Tory MP John Hayes\\n\\n>says ‘co...\n",
       "497  This sort of extreme was not supposed to start...\n",
       "498  And fools keep pretending climate change isn’t...\n",
       "499  With how prevalent air conditioning units are ...\n",
       "\n",
       "[500 rows x 1 columns]"
      ]
     },
     "execution_count": 41,
     "metadata": {},
     "output_type": "execute_result"
    }
   ],
   "source": [
    "post_comments = []\n",
    "for u in urllist:\n",
    " submission = reddit_read_only.submission(url=u)\n",
    " for comment in submission1.comments:\n",
    "    if type(comment) == MoreComments:\n",
    "        continue\n",
    "  \n",
    "    post_comments.append(comment.body)\n",
    "  \n",
    "# creating a dataframe\n",
    "comments_df = pd.DataFrame(post_comments, columns=['comment'])\n",
    "comments_df\n"
   ]
  },
  {
   "cell_type": "code",
   "execution_count": 42,
   "id": "72152dc5",
   "metadata": {},
   "outputs": [],
   "source": [
    "comments_df.to_csv('nlp.csv')"
   ]
  },
  {
   "cell_type": "code",
   "execution_count": 24,
   "id": "889aab4d",
   "metadata": {},
   "outputs": [
    {
     "ename": "AttributeError",
     "evalue": "'MoreComments' object has no attribute 'body'",
     "output_type": "error",
     "traceback": [
      "\u001b[0;31m---------------------------------------------------------------------------\u001b[0m",
      "\u001b[0;31mAttributeError\u001b[0m                            Traceback (most recent call last)",
      "Input \u001b[0;32mIn [24]\u001b[0m, in \u001b[0;36m<cell line: 2>\u001b[0;34m()\u001b[0m\n\u001b[1;32m      1\u001b[0m post_comments \u001b[38;5;241m=\u001b[39m []\n\u001b[1;32m      2\u001b[0m \u001b[38;5;28;01mfor\u001b[39;00m comment \u001b[38;5;129;01min\u001b[39;00m submission\u001b[38;5;241m.\u001b[39mcomments\u001b[38;5;241m.\u001b[39mlist():\n\u001b[0;32m----> 3\u001b[0m     post_comments\u001b[38;5;241m.\u001b[39mappend(\u001b[43mcomment\u001b[49m\u001b[38;5;241;43m.\u001b[39;49m\u001b[43mbody\u001b[49m)\n\u001b[1;32m      4\u001b[0m comments_df \u001b[38;5;241m=\u001b[39m pd\u001b[38;5;241m.\u001b[39mDataFrame(post_comments, columns\u001b[38;5;241m=\u001b[39m[\u001b[38;5;124m'\u001b[39m\u001b[38;5;124mcomment\u001b[39m\u001b[38;5;124m'\u001b[39m])\n\u001b[1;32m      5\u001b[0m comments_df\u001b[38;5;241m.\u001b[39mhead()\n",
      "\u001b[0;31mAttributeError\u001b[0m: 'MoreComments' object has no attribute 'body'"
     ]
    }
   ],
   "source": []
  },
  {
   "cell_type": "code",
   "execution_count": 27,
   "id": "b11b0ab1",
   "metadata": {},
   "outputs": [
    {
     "ename": "AttributeError",
     "evalue": "'Submission' object has no attribute 'replace_more_comments'",
     "output_type": "error",
     "traceback": [
      "\u001b[0;31m---------------------------------------------------------------------------\u001b[0m",
      "\u001b[0;31mAttributeError\u001b[0m                            Traceback (most recent call last)",
      "Input \u001b[0;32mIn [27]\u001b[0m, in \u001b[0;36m<cell line: 1>\u001b[0;34m()\u001b[0m\n\u001b[0;32m----> 1\u001b[0m \u001b[43msubmission\u001b[49m\u001b[38;5;241;43m.\u001b[39;49m\u001b[43mreplace_more_comments\u001b[49m(limit\u001b[38;5;241m=\u001b[39m\u001b[38;5;28;01mNone\u001b[39;00m,threshold\u001b[38;5;241m=\u001b[39m\u001b[38;5;241m0\u001b[39m)\n",
      "File \u001b[0;32m~/opt/anaconda3/envs/MDA/lib/python3.10/site-packages/praw/models/reddit/base.py:35\u001b[0m, in \u001b[0;36mRedditBase.__getattr__\u001b[0;34m(self, attribute)\u001b[0m\n\u001b[1;32m     33\u001b[0m \u001b[38;5;28;01mif\u001b[39;00m \u001b[38;5;129;01mnot\u001b[39;00m attribute\u001b[38;5;241m.\u001b[39mstartswith(\u001b[38;5;124m\"\u001b[39m\u001b[38;5;124m_\u001b[39m\u001b[38;5;124m\"\u001b[39m) \u001b[38;5;129;01mand\u001b[39;00m \u001b[38;5;129;01mnot\u001b[39;00m \u001b[38;5;28mself\u001b[39m\u001b[38;5;241m.\u001b[39m_fetched:\n\u001b[1;32m     34\u001b[0m     \u001b[38;5;28mself\u001b[39m\u001b[38;5;241m.\u001b[39m_fetch()\n\u001b[0;32m---> 35\u001b[0m     \u001b[38;5;28;01mreturn\u001b[39;00m \u001b[38;5;28;43mgetattr\u001b[39;49m\u001b[43m(\u001b[49m\u001b[38;5;28;43mself\u001b[39;49m\u001b[43m,\u001b[49m\u001b[43m \u001b[49m\u001b[43mattribute\u001b[49m\u001b[43m)\u001b[49m\n\u001b[1;32m     36\u001b[0m \u001b[38;5;28;01mraise\u001b[39;00m \u001b[38;5;167;01mAttributeError\u001b[39;00m(\n\u001b[1;32m     37\u001b[0m     \u001b[38;5;124mf\u001b[39m\u001b[38;5;124m\"\u001b[39m\u001b[38;5;132;01m{\u001b[39;00m\u001b[38;5;28mself\u001b[39m\u001b[38;5;241m.\u001b[39m\u001b[38;5;18m__class__\u001b[39m\u001b[38;5;241m.\u001b[39m\u001b[38;5;18m__name__\u001b[39m\u001b[38;5;132;01m!r}\u001b[39;00m\u001b[38;5;124m object has no attribute \u001b[39m\u001b[38;5;132;01m{\u001b[39;00mattribute\u001b[38;5;132;01m!r}\u001b[39;00m\u001b[38;5;124m\"\u001b[39m\n\u001b[1;32m     38\u001b[0m )\n",
      "File \u001b[0;32m~/opt/anaconda3/envs/MDA/lib/python3.10/site-packages/praw/models/reddit/base.py:36\u001b[0m, in \u001b[0;36mRedditBase.__getattr__\u001b[0;34m(self, attribute)\u001b[0m\n\u001b[1;32m     34\u001b[0m     \u001b[38;5;28mself\u001b[39m\u001b[38;5;241m.\u001b[39m_fetch()\n\u001b[1;32m     35\u001b[0m     \u001b[38;5;28;01mreturn\u001b[39;00m \u001b[38;5;28mgetattr\u001b[39m(\u001b[38;5;28mself\u001b[39m, attribute)\n\u001b[0;32m---> 36\u001b[0m \u001b[38;5;28;01mraise\u001b[39;00m \u001b[38;5;167;01mAttributeError\u001b[39;00m(\n\u001b[1;32m     37\u001b[0m     \u001b[38;5;124mf\u001b[39m\u001b[38;5;124m\"\u001b[39m\u001b[38;5;132;01m{\u001b[39;00m\u001b[38;5;28mself\u001b[39m\u001b[38;5;241m.\u001b[39m\u001b[38;5;18m__class__\u001b[39m\u001b[38;5;241m.\u001b[39m\u001b[38;5;18m__name__\u001b[39m\u001b[38;5;132;01m!r}\u001b[39;00m\u001b[38;5;124m object has no attribute \u001b[39m\u001b[38;5;132;01m{\u001b[39;00mattribute\u001b[38;5;132;01m!r}\u001b[39;00m\u001b[38;5;124m\"\u001b[39m\n\u001b[1;32m     38\u001b[0m )\n",
      "\u001b[0;31mAttributeError\u001b[0m: 'Submission' object has no attribute 'replace_more_comments'"
     ]
    }
   ],
   "source": []
  },
  {
   "cell_type": "code",
   "execution_count": 31,
   "id": "0c2879f9",
   "metadata": {},
   "outputs": [],
   "source": [
    "a='aa'"
   ]
  },
  {
   "cell_type": "code",
   "execution_count": 32,
   "id": "6103cad0",
   "metadata": {},
   "outputs": [],
   "source": [
    "b='bb'"
   ]
  },
  {
   "cell_type": "code",
   "execution_count": 34,
   "id": "441d092a",
   "metadata": {},
   "outputs": [
    {
     "data": {
      "text/plain": [
       "['aa', 'bb']"
      ]
     },
     "execution_count": 34,
     "metadata": {},
     "output_type": "execute_result"
    }
   ],
   "source": [
    "list([a,b])"
   ]
  },
  {
   "cell_type": "code",
   "execution_count": null,
   "id": "342dae20",
   "metadata": {},
   "outputs": [],
   "source": []
  }
 ],
 "metadata": {
  "kernelspec": {
   "display_name": "Python 3 (ipykernel)",
   "language": "python",
   "name": "python3"
  },
  "language_info": {
   "codemirror_mode": {
    "name": "ipython",
    "version": 3
   },
   "file_extension": ".py",
   "mimetype": "text/x-python",
   "name": "python",
   "nbconvert_exporter": "python",
   "pygments_lexer": "ipython3",
   "version": "3.10.4"
  }
 },
 "nbformat": 4,
 "nbformat_minor": 5
}
