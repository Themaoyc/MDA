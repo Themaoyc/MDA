{
 "cells": [
  {
   "cell_type": "code",
   "execution_count": 95,
   "id": "d65f8e0e",
   "metadata": {},
   "outputs": [
    {
     "name": "stdout",
     "output_type": "stream",
     "text": [
      "Collecting WordCloud\n",
      "  Downloading wordcloud-1.8.2.2-cp310-cp310-macosx_10_9_x86_64.whl (160 kB)\n",
      "\u001b[2K     \u001b[90m━━━━━━━━━━━━━━━━━━━━━━━━━━━━━━━━━━━━━━\u001b[0m \u001b[32m160.5/160.5 kB\u001b[0m \u001b[31m90.2 kB/s\u001b[0m eta \u001b[36m0:00:00\u001b[0ma \u001b[36m0:00:01\u001b[0m\n",
      "\u001b[?25hRequirement already satisfied: matplotlib in /Users/apple/opt/anaconda3/envs/MDA/lib/python3.10/site-packages (from WordCloud) (3.5.2)\n",
      "Requirement already satisfied: pillow in /Users/apple/opt/anaconda3/envs/MDA/lib/python3.10/site-packages (from WordCloud) (9.2.0)\n",
      "Requirement already satisfied: numpy>=1.6.1 in /Users/apple/opt/anaconda3/envs/MDA/lib/python3.10/site-packages (from WordCloud) (1.23.1)\n",
      "Requirement already satisfied: python-dateutil>=2.7 in /Users/apple/opt/anaconda3/envs/MDA/lib/python3.10/site-packages (from matplotlib->WordCloud) (2.8.2)\n",
      "Requirement already satisfied: kiwisolver>=1.0.1 in /Users/apple/opt/anaconda3/envs/MDA/lib/python3.10/site-packages (from matplotlib->WordCloud) (1.4.4)\n",
      "Requirement already satisfied: pyparsing>=2.2.1 in /Users/apple/opt/anaconda3/envs/MDA/lib/python3.10/site-packages (from matplotlib->WordCloud) (3.0.4)\n",
      "Requirement already satisfied: cycler>=0.10 in /Users/apple/opt/anaconda3/envs/MDA/lib/python3.10/site-packages (from matplotlib->WordCloud) (0.11.0)\n",
      "Requirement already satisfied: packaging>=20.0 in /Users/apple/opt/anaconda3/envs/MDA/lib/python3.10/site-packages (from matplotlib->WordCloud) (21.3)\n",
      "Requirement already satisfied: fonttools>=4.22.0 in /Users/apple/opt/anaconda3/envs/MDA/lib/python3.10/site-packages (from matplotlib->WordCloud) (4.34.4)\n",
      "Requirement already satisfied: six>=1.5 in /Users/apple/opt/anaconda3/envs/MDA/lib/python3.10/site-packages (from python-dateutil>=2.7->matplotlib->WordCloud) (1.16.0)\n",
      "Installing collected packages: WordCloud\n",
      "Successfully installed WordCloud-1.8.2.2\n",
      "Note: you may need to restart the kernel to use updated packages.\n"
     ]
    }
   ],
   "source": [
    "pip install WordCloud"
   ]
  },
  {
   "cell_type": "code",
   "execution_count": 79,
   "id": "894e6ee2",
   "metadata": {},
   "outputs": [],
   "source": [
    "import pandas as pd\n",
    "import praw\n",
    "from praw.models import MoreComments\n",
    "import nltk\n",
    "from nltk.tokenize import RegexpTokenizer\n",
    "from nltk.stem import WordNetLemmatizer,PorterStemmer\n",
    "from nltk.corpus import stopwords\n",
    "import re"
   ]
  },
  {
   "cell_type": "markdown",
   "id": "b28bdc5e",
   "metadata": {},
   "source": [
    "## Collect comments from Reddit by praw"
   ]
  },
  {
   "cell_type": "code",
   "execution_count": 22,
   "id": "04dd78f8",
   "metadata": {},
   "outputs": [],
   "source": [
    "reddit_read_only = praw.Reddit(client_id=\"aqWX9vyIIEyOpIQlRc5G-Q\",         \n",
    "                               client_secret=\"eASIXwJof_ic9KhVC0A7IUTwS22yoQ\",     \n",
    "                               user_agent=\"Yicheng\")       "
   ]
  },
  {
   "cell_type": "markdown",
   "id": "40a208bb",
   "metadata": {},
   "source": [
    "20 "
   ]
  },
  {
   "cell_type": "code",
   "execution_count": 51,
   "id": "d9d67c09",
   "metadata": {},
   "outputs": [],
   "source": [
    "url1 = 'https://www.reddit.com/r/worldnews/comments/w0nwi5/hundreds_die_as_heatwave_grips_europe_and/'\n",
    "url2 = 'https://www.reddit.com/r/worldnews/comments/w1xck1/heatwave_warnings_of_heat_apocalypse_in_france/'\n",
    "url3 = 'https://www.reddit.com/r/worldnews/comments/wietum/99_of_sea_turtles_are_now_born_female_due_to/'\n",
    "url4 = 'https://www.reddit.com/r/pics/comments/w2hzvt/police_officer_giving_a_buckingham_palace_guard/'\n",
    "url5 = 'https://www.reddit.com/r/Damnthatsinteresting/comments/w1z1c3/heatwave_maps_1976_vs_2022/'\n",
    "url6 = 'https://www.reddit.com/r/worldnews/comments/vft4if/unprecedented_heatwave_cooks_western_europe_with/'\n",
    "url7 = 'https://www.reddit.com/r/starterpacks/comments/w1uwgz/heatwave_in_the_uk_starter_pack/'\n",
    "url8 = 'https://www.reddit.com/r/GreenAndPleasant/comments/w1w1fr/how_to_survive_the_global_heatwave/'\n",
    "url9 = 'https://www.reddit.com/r/unitedkingdom/comments/vzkm4v/heatwave_met_office_issues_red_extreme_heat/'\n",
    "url10 = 'https://www.reddit.com/r/worldnews/comments/wgssfd/millions_of_chickens_die_in_factory_farm_sheds/'\n",
    "url11 = 'https://www.reddit.com/r/Damnthatsinteresting/comments/w8pc4q/lions_are_fed_frozen_blood_during_the_heatwave_in/'\n",
    "url12 = 'https://www.reddit.com/r/unitedkingdom/comments/w2r2l1/heatwave_latest_uk_temperature_tops_40c_for_first/'\n",
    "url13 = 'https://www.reddit.com/r/DiWHY/comments/w4einy/ac_broke_during_a_heatwave_in_texas_i_was/'\n",
    "url14 = 'https://www.reddit.com/r/TalesFromYourServer/comments/wht7kf/why_the_hell_do_you_want_to_sit_outside_we_are_in/'\n",
    "url15 = 'https://www.reddit.com/r/HydroHomies/comments/w11obk/heatwave_in_europe_stay_hydrated_homies/'\n",
    "url16 = 'https://www.reddit.com/r/worldnews/comments/w4zzhe/over_1000_killed_in_spains_heatwave_temperature/'\n",
    "url17 = 'https://www.reddit.com/r/Wellthatsucks/comments/w4s4ak/i_decided_to_wash_my_car_in_the_middle_of_a/'\n",
    "url18 = 'https://www.reddit.com/r/britishproblems/comments/w4e7qw/the_heatwave_is_over_and_now_well_all_forget/'\n",
    "url19 = 'https://www.reddit.com/r/unitedkingdom/comments/w1w2tx/britain_could_hit_43c_tomorrow_and_is_on_track/'\n",
    "url20 = 'https://www.reddit.com/r/vancouver/comments/wbgaq1/its_too_damn_hot_for_those_without_ac_how_are_you/'\n",
    "urllist=[url1,url2,url3,url4,url5,url6,url7,url8,url9,url10,url11,url12,url13,url14,url15,url16,url17,url18,url19,url20]\n"
   ]
  },
  {
   "cell_type": "code",
   "execution_count": 59,
   "id": "f158d1b8",
   "metadata": {},
   "outputs": [
    {
     "data": {
      "text/html": [
       "<div>\n",
       "<style scoped>\n",
       "    .dataframe tbody tr th:only-of-type {\n",
       "        vertical-align: middle;\n",
       "    }\n",
       "\n",
       "    .dataframe tbody tr th {\n",
       "        vertical-align: top;\n",
       "    }\n",
       "\n",
       "    .dataframe thead th {\n",
       "        text-align: right;\n",
       "    }\n",
       "</style>\n",
       "<table border=\"1\" class=\"dataframe\">\n",
       "  <thead>\n",
       "    <tr style=\"text-align: right;\">\n",
       "      <th></th>\n",
       "      <th>comment</th>\n",
       "    </tr>\n",
       "  </thead>\n",
       "  <tbody>\n",
       "    <tr>\n",
       "      <th>0</th>\n",
       "      <td>It may be obvious but I'll say it again anyway...</td>\n",
       "    </tr>\n",
       "    <tr>\n",
       "      <th>1</th>\n",
       "      <td>As someone who lives near the sahara desert an...</td>\n",
       "    </tr>\n",
       "    <tr>\n",
       "      <th>2</th>\n",
       "      <td>One trick we did when it hit over 100 F in Sea...</td>\n",
       "    </tr>\n",
       "    <tr>\n",
       "      <th>3</th>\n",
       "      <td>So this is just going to be typical summer new...</td>\n",
       "    </tr>\n",
       "    <tr>\n",
       "      <th>4</th>\n",
       "      <td>Do we have more heatwaves due to global warmin...</td>\n",
       "    </tr>\n",
       "  </tbody>\n",
       "</table>\n",
       "</div>"
      ],
      "text/plain": [
       "                                             comment\n",
       "0  It may be obvious but I'll say it again anyway...\n",
       "1  As someone who lives near the sahara desert an...\n",
       "2  One trick we did when it hit over 100 F in Sea...\n",
       "3  So this is just going to be typical summer new...\n",
       "4  Do we have more heatwaves due to global warmin..."
      ]
     },
     "execution_count": 59,
     "metadata": {},
     "output_type": "execute_result"
    }
   ],
   "source": [
    "post_comments = []\n",
    "for u in urllist:\n",
    " submission = reddit_read_only.submission(url=u)\n",
    " for comment in submission1.comments:\n",
    "    if type(comment) == MoreComments:\n",
    "        continue\n",
    "  \n",
    "    post_comments.append(comment.body)\n",
    "  \n",
    "# creating a dataframe\n",
    "comments_df = pd.DataFrame(post_comments, columns=['comment'])\n",
    "\n",
    "comments_df.head()\n"
   ]
  },
  {
   "cell_type": "code",
   "execution_count": 65,
   "id": "0813b034",
   "metadata": {},
   "outputs": [
    {
     "data": {
      "text/html": [
       "<div>\n",
       "<style scoped>\n",
       "    .dataframe tbody tr th:only-of-type {\n",
       "        vertical-align: middle;\n",
       "    }\n",
       "\n",
       "    .dataframe tbody tr th {\n",
       "        vertical-align: top;\n",
       "    }\n",
       "\n",
       "    .dataframe thead th {\n",
       "        text-align: right;\n",
       "    }\n",
       "</style>\n",
       "<table border=\"1\" class=\"dataframe\">\n",
       "  <thead>\n",
       "    <tr style=\"text-align: right;\">\n",
       "      <th></th>\n",
       "      <th>comment</th>\n",
       "    </tr>\n",
       "  </thead>\n",
       "  <tbody>\n",
       "    <tr>\n",
       "      <th>0</th>\n",
       "      <td>It may be obvious but I'll say it again anyway...</td>\n",
       "    </tr>\n",
       "    <tr>\n",
       "      <th>1</th>\n",
       "      <td>As someone who lives near the sahara desert an...</td>\n",
       "    </tr>\n",
       "    <tr>\n",
       "      <th>2</th>\n",
       "      <td>One trick we did when it hit over 100 F in Sea...</td>\n",
       "    </tr>\n",
       "    <tr>\n",
       "      <th>3</th>\n",
       "      <td>So this is just going to be typical summer new...</td>\n",
       "    </tr>\n",
       "    <tr>\n",
       "      <th>4</th>\n",
       "      <td>Do we have more heatwaves due to global warmin...</td>\n",
       "    </tr>\n",
       "    <tr>\n",
       "      <th>...</th>\n",
       "      <td>...</td>\n",
       "    </tr>\n",
       "    <tr>\n",
       "      <th>995</th>\n",
       "      <td>I’m reading all these comments and, as someone...</td>\n",
       "    </tr>\n",
       "    <tr>\n",
       "      <th>996</th>\n",
       "      <td>Shoutout to UK Tory MP John Hayes\\n\\n&gt;says ‘co...</td>\n",
       "    </tr>\n",
       "    <tr>\n",
       "      <th>997</th>\n",
       "      <td>This sort of extreme was not supposed to start...</td>\n",
       "    </tr>\n",
       "    <tr>\n",
       "      <th>998</th>\n",
       "      <td>And fools keep pretending climate change isn’t...</td>\n",
       "    </tr>\n",
       "    <tr>\n",
       "      <th>999</th>\n",
       "      <td>With how prevalent air conditioning units are ...</td>\n",
       "    </tr>\n",
       "  </tbody>\n",
       "</table>\n",
       "<p>940 rows × 1 columns</p>\n",
       "</div>"
      ],
      "text/plain": [
       "                                               comment\n",
       "0    It may be obvious but I'll say it again anyway...\n",
       "1    As someone who lives near the sahara desert an...\n",
       "2    One trick we did when it hit over 100 F in Sea...\n",
       "3    So this is just going to be typical summer new...\n",
       "4    Do we have more heatwaves due to global warmin...\n",
       "..                                                 ...\n",
       "995  I’m reading all these comments and, as someone...\n",
       "996  Shoutout to UK Tory MP John Hayes\\n\\n>says ‘co...\n",
       "997  This sort of extreme was not supposed to start...\n",
       "998  And fools keep pretending climate change isn’t...\n",
       "999  With how prevalent air conditioning units are ...\n",
       "\n",
       "[940 rows x 1 columns]"
      ]
     },
     "execution_count": 65,
     "metadata": {},
     "output_type": "execute_result"
    }
   ],
   "source": [
    "#drop the deleted and removed comments\n",
    "comments_df = comments_df.drop(comments_df[comments_df['comment']=='[deleted]'].index)\n",
    "comments_df = comments_df.drop(comments_df[comments_df['comment']=='[removed]'].index)"
   ]
  },
  {
   "cell_type": "markdown",
   "id": "16a75ce1",
   "metadata": {},
   "source": [
    "## Preprocess the text data\n",
    "1. Lowercase text\n",
    "2. Remove whitespace\n",
    "3. Remove numbers\n",
    "4. Remove special characters\n",
    "5. Remove emails\n",
    "6. Remove stop words\n",
    "7. Remove NAN\n",
    "8. Remove weblinks\n",
    "9. Tokenize"
   ]
  },
  {
   "cell_type": "code",
   "execution_count": 89,
   "id": "4c68a269",
   "metadata": {},
   "outputs": [
    {
     "data": {
      "text/html": [
       "<div>\n",
       "<style scoped>\n",
       "    .dataframe tbody tr th:only-of-type {\n",
       "        vertical-align: middle;\n",
       "    }\n",
       "\n",
       "    .dataframe tbody tr th {\n",
       "        vertical-align: top;\n",
       "    }\n",
       "\n",
       "    .dataframe thead th {\n",
       "        text-align: right;\n",
       "    }\n",
       "</style>\n",
       "<table border=\"1\" class=\"dataframe\">\n",
       "  <thead>\n",
       "    <tr style=\"text-align: right;\">\n",
       "      <th></th>\n",
       "      <th>comment</th>\n",
       "      <th>cleancomment</th>\n",
       "    </tr>\n",
       "  </thead>\n",
       "  <tbody>\n",
       "    <tr>\n",
       "      <th>0</th>\n",
       "      <td>It may be obvious but I'll say it again anyway...</td>\n",
       "      <td>may obvious say anyway check neighbors especia...</td>\n",
       "    </tr>\n",
       "    <tr>\n",
       "      <th>1</th>\n",
       "      <td>As someone who lives near the sahara desert an...</td>\n",
       "      <td>someone lives near sahara desert get sometimes...</td>\n",
       "    </tr>\n",
       "    <tr>\n",
       "      <th>2</th>\n",
       "      <td>One trick we did when it hit over 100 F in Sea...</td>\n",
       "      <td>one trick hit seattle last year cover windows ...</td>\n",
       "    </tr>\n",
       "    <tr>\n",
       "      <th>3</th>\n",
       "      <td>So this is just going to be typical summer new...</td>\n",
       "      <td>going typical summer news rest life right</td>\n",
       "    </tr>\n",
       "    <tr>\n",
       "      <th>4</th>\n",
       "      <td>Do we have more heatwaves due to global warmin...</td>\n",
       "      <td>heatwaves due global warming number way hotter...</td>\n",
       "    </tr>\n",
       "  </tbody>\n",
       "</table>\n",
       "</div>"
      ],
      "text/plain": [
       "                                             comment  \\\n",
       "0  It may be obvious but I'll say it again anyway...   \n",
       "1  As someone who lives near the sahara desert an...   \n",
       "2  One trick we did when it hit over 100 F in Sea...   \n",
       "3  So this is just going to be typical summer new...   \n",
       "4  Do we have more heatwaves due to global warmin...   \n",
       "\n",
       "                                        cleancomment  \n",
       "0  may obvious say anyway check neighbors especia...  \n",
       "1  someone lives near sahara desert get sometimes...  \n",
       "2  one trick hit seattle last year cover windows ...  \n",
       "3          going typical summer news rest life right  \n",
       "4  heatwaves due global warming number way hotter...  "
      ]
     },
     "execution_count": 89,
     "metadata": {},
     "output_type": "execute_result"
    }
   ],
   "source": [
    "lemmatizer = WordNetLemmatizer()\n",
    "stemmer = PorterStemmer() \n",
    "\n",
    "def preprocess(sentence):\n",
    "    sentence=str(sentence)\n",
    "    sentence = sentence.lower()\n",
    "    sentence=sentence.replace('{html}',\"\") \n",
    "    cleanr = re.compile('<.*?>')\n",
    "    cleantext = re.sub(cleanr, '', sentence)\n",
    "    rem_url=re.sub(r'http\\S+', '',cleantext)\n",
    "    rem_num = re.sub('[0-9]+', '', rem_url)\n",
    "    tokenizer = RegexpTokenizer(r'\\w+')\n",
    "    tokens = tokenizer.tokenize(rem_num)  \n",
    "    filtered_words = [w for w in tokens if len(w) > 2 if not w in stopwords.words('english')]\n",
    "    stem_words=[stemmer.stem(w) for w in filtered_words]\n",
    "    lemma_words=[lemmatizer.lemmatize(w) for w in stem_words]\n",
    "    return \" \".join(filtered_words)\n",
    "comments_df['cleancomment']=comments_df['comment'].map(lambda s:preprocess(s)) \n",
    "comments_df.head()"
   ]
  },
  {
   "cell_type": "code",
   "execution_count": 93,
   "id": "b67234bd",
   "metadata": {},
   "outputs": [],
   "source": [
    "cleancomment=comments_df['cleancomment']\n",
    "cleancomment.to_csv('nlp.csv')\n",
    "cleancomment.to_csv('nlp.txt', sep='\\t', index=False)"
   ]
  },
  {
   "cell_type": "markdown",
   "id": "ac3764d5",
   "metadata": {},
   "source": [
    "## Wordcloud"
   ]
  },
  {
   "cell_type": "code",
   "execution_count": 94,
   "id": "3d873a13",
   "metadata": {},
   "outputs": [
    {
     "ename": "NameError",
     "evalue": "name 'WordCloud' is not defined",
     "output_type": "error",
     "traceback": [
      "\u001b[0;31m---------------------------------------------------------------------------\u001b[0m",
      "\u001b[0;31mNameError\u001b[0m                                 Traceback (most recent call last)",
      "Input \u001b[0;32mIn [94]\u001b[0m, in \u001b[0;36m<cell line: 1>\u001b[0;34m()\u001b[0m\n\u001b[0;32m----> 1\u001b[0m wordcloud \u001b[38;5;241m=\u001b[39m \u001b[43mWordCloud\u001b[49m(background_color\u001b[38;5;241m=\u001b[39m\u001b[38;5;124m'\u001b[39m\u001b[38;5;124mwhite\u001b[39m\u001b[38;5;124m'\u001b[39m,\n\u001b[1;32m      2\u001b[0m                       max_words\u001b[38;5;241m=\u001b[39m\u001b[38;5;241m30\u001b[39m,\n\u001b[1;32m      3\u001b[0m                       max_font_size\u001b[38;5;241m=\u001b[39m\u001b[38;5;241m40\u001b[39m,\n\u001b[1;32m      4\u001b[0m                       random_state\u001b[38;5;241m=\u001b[39m\u001b[38;5;241m42\u001b[39m)\u001b[38;5;241m.\u001b[39mgenerate(\u001b[38;5;28mstr\u001b[39m(cleancomment))\n",
      "\u001b[0;31mNameError\u001b[0m: name 'WordCloud' is not defined"
     ]
    }
   ],
   "source": [
    "wordcloud = WordCloud(background_color='white',\n",
    "                      max_words=30,\n",
    "                      max_font_size=40,\n",
    "                      random_state=42).generate(str(cleancomment))"
   ]
  },
  {
   "cell_type": "code",
   "execution_count": 32,
   "id": "42d38a39",
   "metadata": {},
   "outputs": [],
   "source": []
  },
  {
   "cell_type": "code",
   "execution_count": 34,
   "id": "2cb88cd0",
   "metadata": {},
   "outputs": [
    {
     "data": {
      "text/plain": [
       "['aa', 'bb']"
      ]
     },
     "execution_count": 34,
     "metadata": {},
     "output_type": "execute_result"
    }
   ],
   "source": []
  },
  {
   "cell_type": "code",
   "execution_count": 55,
   "id": "ddb4a02d",
   "metadata": {},
   "outputs": [],
   "source": []
  },
  {
   "cell_type": "code",
   "execution_count": null,
   "id": "a6dbbc1f",
   "metadata": {},
   "outputs": [],
   "source": []
  }
 ],
 "metadata": {
  "kernelspec": {
   "display_name": "Python 3 (ipykernel)",
   "language": "python",
   "name": "python3"
  },
  "language_info": {
   "codemirror_mode": {
    "name": "ipython",
    "version": 3
   },
   "file_extension": ".py",
   "mimetype": "text/x-python",
   "name": "python",
   "nbconvert_exporter": "python",
   "pygments_lexer": "ipython3",
   "version": "3.10.4"
  }
 },
 "nbformat": 4,
 "nbformat_minor": 5
}
